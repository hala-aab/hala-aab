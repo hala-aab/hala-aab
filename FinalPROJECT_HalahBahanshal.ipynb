{
  "cells": [
    {
      "cell_type": "code",
      "execution_count": 2,
      "id": "f5618611",
      "metadata": {
        "id": "f5618611"
      },
      "outputs": [],
      "source": [
        "import pandas as pd\n",
        "from keras.models import Sequential\n",
        "from keras.layers import Dense\n",
        "from keras.wrappers.scikit_learn import KerasRegressor\n",
        "from sklearn.model_selection import cross_val_score\n",
        "from sklearn.model_selection import KFold\n",
        "from sklearn.preprocessing import StandardScaler\n",
        "from sklearn.pipeline import Pipeline\n"
      ]
    },
    {
      "cell_type": "code",
      "execution_count": 3,
      "id": "b205374a",
      "metadata": {
        "colab": {
          "base_uri": "https://localhost:8080/"
        },
        "id": "b205374a",
        "outputId": "656594eb-64aa-40a2-a0ea-4345f581248f"
      },
      "outputs": [
        {
          "output_type": "stream",
          "name": "stdout",
          "text": [
            "Requirement already satisfied: tensorflow in /usr/local/lib/python3.7/dist-packages (2.7.0)\n",
            "Requirement already satisfied: astunparse>=1.6.0 in /usr/local/lib/python3.7/dist-packages (from tensorflow) (1.6.3)\n",
            "Requirement already satisfied: termcolor>=1.1.0 in /usr/local/lib/python3.7/dist-packages (from tensorflow) (1.1.0)\n",
            "Requirement already satisfied: six>=1.12.0 in /usr/local/lib/python3.7/dist-packages (from tensorflow) (1.15.0)\n",
            "Requirement already satisfied: numpy>=1.14.5 in /usr/local/lib/python3.7/dist-packages (from tensorflow) (1.19.5)\n",
            "Requirement already satisfied: absl-py>=0.4.0 in /usr/local/lib/python3.7/dist-packages (from tensorflow) (1.0.0)\n",
            "Requirement already satisfied: flatbuffers<3.0,>=1.12 in /usr/local/lib/python3.7/dist-packages (from tensorflow) (2.0)\n",
            "Requirement already satisfied: keras<2.8,>=2.7.0rc0 in /usr/local/lib/python3.7/dist-packages (from tensorflow) (2.7.0)\n",
            "Requirement already satisfied: google-pasta>=0.1.1 in /usr/local/lib/python3.7/dist-packages (from tensorflow) (0.2.0)\n",
            "Requirement already satisfied: wheel<1.0,>=0.32.0 in /usr/local/lib/python3.7/dist-packages (from tensorflow) (0.37.1)\n",
            "Requirement already satisfied: gast<0.5.0,>=0.2.1 in /usr/local/lib/python3.7/dist-packages (from tensorflow) (0.4.0)\n",
            "Requirement already satisfied: libclang>=9.0.1 in /usr/local/lib/python3.7/dist-packages (from tensorflow) (13.0.0)\n",
            "Requirement already satisfied: tensorflow-io-gcs-filesystem>=0.21.0 in /usr/local/lib/python3.7/dist-packages (from tensorflow) (0.23.1)\n",
            "Requirement already satisfied: typing-extensions>=3.6.6 in /usr/local/lib/python3.7/dist-packages (from tensorflow) (3.10.0.2)\n",
            "Requirement already satisfied: opt-einsum>=2.3.2 in /usr/local/lib/python3.7/dist-packages (from tensorflow) (3.3.0)\n",
            "Requirement already satisfied: wrapt>=1.11.0 in /usr/local/lib/python3.7/dist-packages (from tensorflow) (1.13.3)\n",
            "Requirement already satisfied: tensorflow-estimator<2.8,~=2.7.0rc0 in /usr/local/lib/python3.7/dist-packages (from tensorflow) (2.7.0)\n",
            "Requirement already satisfied: protobuf>=3.9.2 in /usr/local/lib/python3.7/dist-packages (from tensorflow) (3.17.3)\n",
            "Requirement already satisfied: h5py>=2.9.0 in /usr/local/lib/python3.7/dist-packages (from tensorflow) (3.1.0)\n",
            "Requirement already satisfied: keras-preprocessing>=1.1.1 in /usr/local/lib/python3.7/dist-packages (from tensorflow) (1.1.2)\n",
            "Requirement already satisfied: tensorboard~=2.6 in /usr/local/lib/python3.7/dist-packages (from tensorflow) (2.7.0)\n",
            "Requirement already satisfied: grpcio<2.0,>=1.24.3 in /usr/local/lib/python3.7/dist-packages (from tensorflow) (1.43.0)\n",
            "Requirement already satisfied: cached-property in /usr/local/lib/python3.7/dist-packages (from h5py>=2.9.0->tensorflow) (1.5.2)\n",
            "Requirement already satisfied: setuptools>=41.0.0 in /usr/local/lib/python3.7/dist-packages (from tensorboard~=2.6->tensorflow) (57.4.0)\n",
            "Requirement already satisfied: tensorboard-plugin-wit>=1.6.0 in /usr/local/lib/python3.7/dist-packages (from tensorboard~=2.6->tensorflow) (1.8.1)\n",
            "Requirement already satisfied: werkzeug>=0.11.15 in /usr/local/lib/python3.7/dist-packages (from tensorboard~=2.6->tensorflow) (1.0.1)\n",
            "Requirement already satisfied: markdown>=2.6.8 in /usr/local/lib/python3.7/dist-packages (from tensorboard~=2.6->tensorflow) (3.3.6)\n",
            "Requirement already satisfied: tensorboard-data-server<0.7.0,>=0.6.0 in /usr/local/lib/python3.7/dist-packages (from tensorboard~=2.6->tensorflow) (0.6.1)\n",
            "Requirement already satisfied: requests<3,>=2.21.0 in /usr/local/lib/python3.7/dist-packages (from tensorboard~=2.6->tensorflow) (2.23.0)\n",
            "Requirement already satisfied: google-auth<3,>=1.6.3 in /usr/local/lib/python3.7/dist-packages (from tensorboard~=2.6->tensorflow) (1.35.0)\n",
            "Requirement already satisfied: google-auth-oauthlib<0.5,>=0.4.1 in /usr/local/lib/python3.7/dist-packages (from tensorboard~=2.6->tensorflow) (0.4.6)\n",
            "Requirement already satisfied: cachetools<5.0,>=2.0.0 in /usr/local/lib/python3.7/dist-packages (from google-auth<3,>=1.6.3->tensorboard~=2.6->tensorflow) (4.2.4)\n",
            "Requirement already satisfied: rsa<5,>=3.1.4 in /usr/local/lib/python3.7/dist-packages (from google-auth<3,>=1.6.3->tensorboard~=2.6->tensorflow) (4.8)\n",
            "Requirement already satisfied: pyasn1-modules>=0.2.1 in /usr/local/lib/python3.7/dist-packages (from google-auth<3,>=1.6.3->tensorboard~=2.6->tensorflow) (0.2.8)\n",
            "Requirement already satisfied: requests-oauthlib>=0.7.0 in /usr/local/lib/python3.7/dist-packages (from google-auth-oauthlib<0.5,>=0.4.1->tensorboard~=2.6->tensorflow) (1.3.1)\n",
            "Requirement already satisfied: importlib-metadata>=4.4 in /usr/local/lib/python3.7/dist-packages (from markdown>=2.6.8->tensorboard~=2.6->tensorflow) (4.10.1)\n",
            "Requirement already satisfied: zipp>=0.5 in /usr/local/lib/python3.7/dist-packages (from importlib-metadata>=4.4->markdown>=2.6.8->tensorboard~=2.6->tensorflow) (3.7.0)\n",
            "Requirement already satisfied: pyasn1<0.5.0,>=0.4.6 in /usr/local/lib/python3.7/dist-packages (from pyasn1-modules>=0.2.1->google-auth<3,>=1.6.3->tensorboard~=2.6->tensorflow) (0.4.8)\n",
            "Requirement already satisfied: certifi>=2017.4.17 in /usr/local/lib/python3.7/dist-packages (from requests<3,>=2.21.0->tensorboard~=2.6->tensorflow) (2021.10.8)\n",
            "Requirement already satisfied: urllib3!=1.25.0,!=1.25.1,<1.26,>=1.21.1 in /usr/local/lib/python3.7/dist-packages (from requests<3,>=2.21.0->tensorboard~=2.6->tensorflow) (1.24.3)\n",
            "Requirement already satisfied: chardet<4,>=3.0.2 in /usr/local/lib/python3.7/dist-packages (from requests<3,>=2.21.0->tensorboard~=2.6->tensorflow) (3.0.4)\n",
            "Requirement already satisfied: idna<3,>=2.5 in /usr/local/lib/python3.7/dist-packages (from requests<3,>=2.21.0->tensorboard~=2.6->tensorflow) (2.10)\n",
            "Requirement already satisfied: oauthlib>=3.0.0 in /usr/local/lib/python3.7/dist-packages (from requests-oauthlib>=0.7.0->google-auth-oauthlib<0.5,>=0.4.1->tensorboard~=2.6->tensorflow) (3.2.0)\n"
          ]
        }
      ],
      "source": [
        "pip install tensorflow"
      ]
    },
    {
      "cell_type": "code",
      "execution_count": 4,
      "id": "b91d43f1",
      "metadata": {
        "id": "b91d43f1"
      },
      "outputs": [],
      "source": [
        "from tensorflow.keras import models, layers, utils, backend as K\n",
        "import matplotlib.pyplot as plt\n"
      ]
    },
    {
      "cell_type": "code",
      "execution_count": 5,
      "id": "14987ab6",
      "metadata": {
        "id": "14987ab6"
      },
      "outputs": [],
      "source": [
        "#Importing necessary Libraries\n",
        "import numpy as np\n",
        "import tensorflow as tf"
      ]
    },
    {
      "cell_type": "code",
      "execution_count": 6,
      "id": "34726940",
      "metadata": {
        "id": "34726940",
        "colab": {
          "base_uri": "https://localhost:8080/"
        },
        "outputId": "b4e674f5-444e-4b86-83a0-521f5c0b626b"
      },
      "outputs": [
        {
          "output_type": "stream",
          "name": "stdout",
          "text": [
            "Requirement already satisfied: PyDrive in /usr/local/lib/python3.7/dist-packages (1.3.1)\n",
            "Requirement already satisfied: PyYAML>=3.0 in /usr/local/lib/python3.7/dist-packages (from PyDrive) (3.13)\n",
            "Requirement already satisfied: oauth2client>=4.0.0 in /usr/local/lib/python3.7/dist-packages (from PyDrive) (4.1.3)\n",
            "Requirement already satisfied: google-api-python-client>=1.2 in /usr/local/lib/python3.7/dist-packages (from PyDrive) (1.12.10)\n",
            "Requirement already satisfied: google-auth-httplib2>=0.0.3 in /usr/local/lib/python3.7/dist-packages (from google-api-python-client>=1.2->PyDrive) (0.0.4)\n",
            "Requirement already satisfied: httplib2<1dev,>=0.15.0 in /usr/local/lib/python3.7/dist-packages (from google-api-python-client>=1.2->PyDrive) (0.17.4)\n",
            "Requirement already satisfied: google-api-core<3dev,>=1.21.0 in /usr/local/lib/python3.7/dist-packages (from google-api-python-client>=1.2->PyDrive) (1.26.3)\n",
            "Requirement already satisfied: uritemplate<4dev,>=3.0.0 in /usr/local/lib/python3.7/dist-packages (from google-api-python-client>=1.2->PyDrive) (3.0.1)\n",
            "Requirement already satisfied: six<2dev,>=1.13.0 in /usr/local/lib/python3.7/dist-packages (from google-api-python-client>=1.2->PyDrive) (1.15.0)\n",
            "Requirement already satisfied: google-auth<3dev,>=1.16.0 in /usr/local/lib/python3.7/dist-packages (from google-api-python-client>=1.2->PyDrive) (1.35.0)\n",
            "Requirement already satisfied: setuptools>=40.3.0 in /usr/local/lib/python3.7/dist-packages (from google-api-core<3dev,>=1.21.0->google-api-python-client>=1.2->PyDrive) (57.4.0)\n",
            "Requirement already satisfied: protobuf>=3.12.0 in /usr/local/lib/python3.7/dist-packages (from google-api-core<3dev,>=1.21.0->google-api-python-client>=1.2->PyDrive) (3.17.3)\n",
            "Requirement already satisfied: requests<3.0.0dev,>=2.18.0 in /usr/local/lib/python3.7/dist-packages (from google-api-core<3dev,>=1.21.0->google-api-python-client>=1.2->PyDrive) (2.23.0)\n",
            "Requirement already satisfied: pytz in /usr/local/lib/python3.7/dist-packages (from google-api-core<3dev,>=1.21.0->google-api-python-client>=1.2->PyDrive) (2018.9)\n",
            "Requirement already satisfied: googleapis-common-protos<2.0dev,>=1.6.0 in /usr/local/lib/python3.7/dist-packages (from google-api-core<3dev,>=1.21.0->google-api-python-client>=1.2->PyDrive) (1.54.0)\n",
            "Requirement already satisfied: packaging>=14.3 in /usr/local/lib/python3.7/dist-packages (from google-api-core<3dev,>=1.21.0->google-api-python-client>=1.2->PyDrive) (21.3)\n",
            "Requirement already satisfied: cachetools<5.0,>=2.0.0 in /usr/local/lib/python3.7/dist-packages (from google-auth<3dev,>=1.16.0->google-api-python-client>=1.2->PyDrive) (4.2.4)\n",
            "Requirement already satisfied: pyasn1-modules>=0.2.1 in /usr/local/lib/python3.7/dist-packages (from google-auth<3dev,>=1.16.0->google-api-python-client>=1.2->PyDrive) (0.2.8)\n",
            "Requirement already satisfied: rsa<5,>=3.1.4 in /usr/local/lib/python3.7/dist-packages (from google-auth<3dev,>=1.16.0->google-api-python-client>=1.2->PyDrive) (4.8)\n",
            "Requirement already satisfied: pyasn1>=0.1.7 in /usr/local/lib/python3.7/dist-packages (from oauth2client>=4.0.0->PyDrive) (0.4.8)\n",
            "Requirement already satisfied: pyparsing!=3.0.5,>=2.0.2 in /usr/local/lib/python3.7/dist-packages (from packaging>=14.3->google-api-core<3dev,>=1.21.0->google-api-python-client>=1.2->PyDrive) (3.0.7)\n",
            "Requirement already satisfied: idna<3,>=2.5 in /usr/local/lib/python3.7/dist-packages (from requests<3.0.0dev,>=2.18.0->google-api-core<3dev,>=1.21.0->google-api-python-client>=1.2->PyDrive) (2.10)\n",
            "Requirement already satisfied: certifi>=2017.4.17 in /usr/local/lib/python3.7/dist-packages (from requests<3.0.0dev,>=2.18.0->google-api-core<3dev,>=1.21.0->google-api-python-client>=1.2->PyDrive) (2021.10.8)\n",
            "Requirement already satisfied: urllib3!=1.25.0,!=1.25.1,<1.26,>=1.21.1 in /usr/local/lib/python3.7/dist-packages (from requests<3.0.0dev,>=2.18.0->google-api-core<3dev,>=1.21.0->google-api-python-client>=1.2->PyDrive) (1.24.3)\n",
            "Requirement already satisfied: chardet<4,>=3.0.2 in /usr/local/lib/python3.7/dist-packages (from requests<3.0.0dev,>=2.18.0->google-api-core<3dev,>=1.21.0->google-api-python-client>=1.2->PyDrive) (3.0.4)\n"
          ]
        }
      ],
      "source": [
        "!pip install PyDrive #this is just to make the whole thing on google drive, needed later\n"
      ]
    },
    {
      "cell_type": "code",
      "source": [
        "!pip install -q xlrd"
      ],
      "metadata": {
        "id": "X_FnSonbq0og"
      },
      "id": "X_FnSonbq0og",
      "execution_count": 7,
      "outputs": []
    },
    {
      "cell_type": "code",
      "source": [
        "#importing the necessary libraries\n",
        "import os #operating system\n",
        "from pydrive.auth import GoogleAuth \n",
        "from pydrive.drive import GoogleDrive\n",
        "from google.colab import auth\n",
        "from oauth2client.client import GoogleCredentials"
      ],
      "metadata": {
        "id": "Cj5Hoxi0ofDJ"
      },
      "id": "Cj5Hoxi0ofDJ",
      "execution_count": 8,
      "outputs": []
    },
    {
      "cell_type": "code",
      "source": [
        "auth.authenticate_user()\n",
        "gauth = GoogleAuth()\n",
        "gauth.credentials = GoogleCredentials.get_application_default()\n",
        "drive = GoogleDrive(gauth)"
      ],
      "metadata": {
        "id": "1DJ2OLllop5t"
      },
      "id": "1DJ2OLllop5t",
      "execution_count": 10,
      "outputs": []
    },
    {
      "cell_type": "code",
      "source": [
        "download = drive.CreateFile({'id': '1Te-q3_8Na8JImPF2FjyOx3KYtvvyuGkc'}) #downloads the file of the dataset, the ID is obtained from after the following block for the train_LbEl.. zip file\n",
        "#download = drive.CreateFile({'id': '1Mmpl2Z2IbP5MRmagxP2me89idCpUcBU1'}) #downloads the file of the dataset, the ID is obtained from after the following block for the train_LbEl.. zip file"
      ],
      "metadata": {
        "id": "7nWvQnSSqUnc"
      },
      "id": "7nWvQnSSqUnc",
      "execution_count": 11,
      "outputs": []
    },
    {
      "cell_type": "code",
      "source": [
        "download.GetContentFile('Concrete_Data.xls')"
      ],
      "metadata": {
        "id": "GMwTgl1PrEef"
      },
      "id": "GMwTgl1PrEef",
      "execution_count": 12,
      "outputs": []
    },
    {
      "cell_type": "code",
      "source": [
        "pip install xlrd==1.2.0"
      ],
      "metadata": {
        "colab": {
          "base_uri": "https://localhost:8080/"
        },
        "id": "6STQI5MpsEUe",
        "outputId": "f00e3dde-c67e-44d3-8265-e7da1541cc55"
      },
      "id": "6STQI5MpsEUe",
      "execution_count": 13,
      "outputs": [
        {
          "output_type": "stream",
          "name": "stdout",
          "text": [
            "Collecting xlrd==1.2.0\n",
            "  Downloading xlrd-1.2.0-py2.py3-none-any.whl (103 kB)\n",
            "\u001b[?25l\r\u001b[K     |███▏                            | 10 kB 27.5 MB/s eta 0:00:01\r\u001b[K     |██████▍                         | 20 kB 31.9 MB/s eta 0:00:01\r\u001b[K     |█████████▌                      | 30 kB 36.8 MB/s eta 0:00:01\r\u001b[K     |████████████▊                   | 40 kB 39.8 MB/s eta 0:00:01\r\u001b[K     |███████████████▉                | 51 kB 30.7 MB/s eta 0:00:01\r\u001b[K     |███████████████████             | 61 kB 23.7 MB/s eta 0:00:01\r\u001b[K     |██████████████████████▏         | 71 kB 19.7 MB/s eta 0:00:01\r\u001b[K     |█████████████████████████▍      | 81 kB 20.8 MB/s eta 0:00:01\r\u001b[K     |████████████████████████████▋   | 92 kB 22.6 MB/s eta 0:00:01\r\u001b[K     |███████████████████████████████▊| 102 kB 24.4 MB/s eta 0:00:01\r\u001b[K     |████████████████████████████████| 103 kB 24.4 MB/s \n",
            "\u001b[?25hInstalling collected packages: xlrd\n",
            "  Attempting uninstall: xlrd\n",
            "    Found existing installation: xlrd 1.1.0\n",
            "    Uninstalling xlrd-1.1.0:\n",
            "      Successfully uninstalled xlrd-1.1.0\n",
            "Successfully installed xlrd-1.2.0\n"
          ]
        }
      ]
    },
    {
      "cell_type": "code",
      "execution_count": 14,
      "id": "9c898129",
      "metadata": {
        "id": "9c898129"
      },
      "outputs": [],
      "source": [
        "\n",
        "d3 = pd.read_excel('Concrete_Data.xls')"
      ]
    },
    {
      "cell_type": "code",
      "source": [
        "d3.info()"
      ],
      "metadata": {
        "colab": {
          "base_uri": "https://localhost:8080/"
        },
        "id": "dvai_3NwwO5-",
        "outputId": "b7abfbb4-19ba-47e2-8c8e-91b2a6dbff87"
      },
      "id": "dvai_3NwwO5-",
      "execution_count": 15,
      "outputs": [
        {
          "output_type": "stream",
          "name": "stdout",
          "text": [
            "<class 'pandas.core.frame.DataFrame'>\n",
            "RangeIndex: 1030 entries, 0 to 1029\n",
            "Data columns (total 9 columns):\n",
            " #   Column                                                 Non-Null Count  Dtype  \n",
            "---  ------                                                 --------------  -----  \n",
            " 0   Cement (component 1)(kg in a m^3 mixture)              1030 non-null   float64\n",
            " 1   Blast Furnace Slag (component 2)(kg in a m^3 mixture)  1030 non-null   float64\n",
            " 2   Fly Ash (component 3)(kg in a m^3 mixture)             1030 non-null   float64\n",
            " 3   Water  (component 4)(kg in a m^3 mixture)              1030 non-null   float64\n",
            " 4   Superplasticizer (component 5)(kg in a m^3 mixture)    1030 non-null   float64\n",
            " 5   Coarse Aggregate  (component 6)(kg in a m^3 mixture)   1030 non-null   float64\n",
            " 6   Fine Aggregate (component 7)(kg in a m^3 mixture)      1030 non-null   float64\n",
            " 7   Age (day)                                              1030 non-null   int64  \n",
            " 8   Concrete compressive strength(MPa, megapascals)        1030 non-null   float64\n",
            "dtypes: float64(8), int64(1)\n",
            "memory usage: 72.5 KB\n"
          ]
        }
      ]
    },
    {
      "cell_type": "code",
      "source": [
        "req_col_names = [\"Cement\", \"BlastFurnaceSlag\", \"FlyAsh\", \"Water\", \"Superplasticizer\",\n",
        "                 \"CoarseAggregate\", \"FineAggregare\", \"Age\", \"CC_Strength\"]\n",
        "curr_col_names = list(d3.columns)\n",
        "\n",
        "mapper = {}\n",
        "for i, name in enumerate(curr_col_names):\n",
        "    mapper[name] = req_col_names[i]\n",
        "\n",
        "d3 = d3.rename(columns=mapper)"
      ],
      "metadata": {
        "id": "xuq-pWBTwT72"
      },
      "id": "xuq-pWBTwT72",
      "execution_count": 16,
      "outputs": []
    },
    {
      "cell_type": "code",
      "execution_count": 17,
      "id": "dd29e499",
      "metadata": {
        "id": "dd29e499"
      },
      "outputs": [],
      "source": [
        "\n",
        "\n",
        "#Independent variables\n",
        "X = d3.iloc[:,:-1]\n",
        "#dependent variable\n",
        "Y = d3.iloc[:,-1] "
      ]
    },
    {
      "cell_type": "code",
      "source": [
        "Y"
      ],
      "metadata": {
        "colab": {
          "base_uri": "https://localhost:8080/"
        },
        "id": "9Y_G18zQj8pm",
        "outputId": "67cb47c6-140f-4b69-9592-1c4220b2f1b7"
      },
      "id": "9Y_G18zQj8pm",
      "execution_count": 18,
      "outputs": [
        {
          "output_type": "execute_result",
          "data": {
            "text/plain": [
              "0       79.986111\n",
              "1       61.887366\n",
              "2       40.269535\n",
              "3       41.052780\n",
              "4       44.296075\n",
              "          ...    \n",
              "1025    44.284354\n",
              "1026    31.178794\n",
              "1027    23.696601\n",
              "1028    32.768036\n",
              "1029    32.401235\n",
              "Name: CC_Strength, Length: 1030, dtype: float64"
            ]
          },
          "metadata": {},
          "execution_count": 18
        }
      ]
    },
    {
      "cell_type": "code",
      "source": [
        "train_dataset = d3.sample(frac=0.8, random_state=0)\n",
        "test_dataset = d3.drop(train_dataset.index)\n",
        "\n",
        " "
      ],
      "metadata": {
        "id": "Titw8MfPzXSK"
      },
      "id": "Titw8MfPzXSK",
      "execution_count": 19,
      "outputs": []
    },
    {
      "cell_type": "code",
      "source": [
        "#Independent variables\n",
        "X = train_dataset.iloc[:,:-1]\n",
        "#dependent variable\n",
        "Y = train_dataset.iloc[:,-1] \n",
        "\n",
        "#Independent variables\n",
        "X_test = test_dataset.iloc[:,:-1]\n",
        "#dependent variable\n",
        "Y_test = test_dataset.iloc[:,-1]"
      ],
      "metadata": {
        "id": "bwGqBRHdPqd5"
      },
      "id": "bwGqBRHdPqd5",
      "execution_count": 20,
      "outputs": []
    },
    {
      "cell_type": "code",
      "source": [
        "d3.head()"
      ],
      "metadata": {
        "colab": {
          "base_uri": "https://localhost:8080/",
          "height": 206
        },
        "id": "XgG7-zPc6lob",
        "outputId": "5f069f80-56e3-4fde-bdb3-a316fc31e459"
      },
      "id": "XgG7-zPc6lob",
      "execution_count": 21,
      "outputs": [
        {
          "output_type": "execute_result",
          "data": {
            "text/html": [
              "\n",
              "  <div id=\"df-d80a413e-6f65-481a-bc68-1b795e8fe8d9\">\n",
              "    <div class=\"colab-df-container\">\n",
              "      <div>\n",
              "<style scoped>\n",
              "    .dataframe tbody tr th:only-of-type {\n",
              "        vertical-align: middle;\n",
              "    }\n",
              "\n",
              "    .dataframe tbody tr th {\n",
              "        vertical-align: top;\n",
              "    }\n",
              "\n",
              "    .dataframe thead th {\n",
              "        text-align: right;\n",
              "    }\n",
              "</style>\n",
              "<table border=\"1\" class=\"dataframe\">\n",
              "  <thead>\n",
              "    <tr style=\"text-align: right;\">\n",
              "      <th></th>\n",
              "      <th>Cement</th>\n",
              "      <th>BlastFurnaceSlag</th>\n",
              "      <th>FlyAsh</th>\n",
              "      <th>Water</th>\n",
              "      <th>Superplasticizer</th>\n",
              "      <th>CoarseAggregate</th>\n",
              "      <th>FineAggregare</th>\n",
              "      <th>Age</th>\n",
              "      <th>CC_Strength</th>\n",
              "    </tr>\n",
              "  </thead>\n",
              "  <tbody>\n",
              "    <tr>\n",
              "      <th>0</th>\n",
              "      <td>540.0</td>\n",
              "      <td>0.0</td>\n",
              "      <td>0.0</td>\n",
              "      <td>162.0</td>\n",
              "      <td>2.5</td>\n",
              "      <td>1040.0</td>\n",
              "      <td>676.0</td>\n",
              "      <td>28</td>\n",
              "      <td>79.986111</td>\n",
              "    </tr>\n",
              "    <tr>\n",
              "      <th>1</th>\n",
              "      <td>540.0</td>\n",
              "      <td>0.0</td>\n",
              "      <td>0.0</td>\n",
              "      <td>162.0</td>\n",
              "      <td>2.5</td>\n",
              "      <td>1055.0</td>\n",
              "      <td>676.0</td>\n",
              "      <td>28</td>\n",
              "      <td>61.887366</td>\n",
              "    </tr>\n",
              "    <tr>\n",
              "      <th>2</th>\n",
              "      <td>332.5</td>\n",
              "      <td>142.5</td>\n",
              "      <td>0.0</td>\n",
              "      <td>228.0</td>\n",
              "      <td>0.0</td>\n",
              "      <td>932.0</td>\n",
              "      <td>594.0</td>\n",
              "      <td>270</td>\n",
              "      <td>40.269535</td>\n",
              "    </tr>\n",
              "    <tr>\n",
              "      <th>3</th>\n",
              "      <td>332.5</td>\n",
              "      <td>142.5</td>\n",
              "      <td>0.0</td>\n",
              "      <td>228.0</td>\n",
              "      <td>0.0</td>\n",
              "      <td>932.0</td>\n",
              "      <td>594.0</td>\n",
              "      <td>365</td>\n",
              "      <td>41.052780</td>\n",
              "    </tr>\n",
              "    <tr>\n",
              "      <th>4</th>\n",
              "      <td>198.6</td>\n",
              "      <td>132.4</td>\n",
              "      <td>0.0</td>\n",
              "      <td>192.0</td>\n",
              "      <td>0.0</td>\n",
              "      <td>978.4</td>\n",
              "      <td>825.5</td>\n",
              "      <td>360</td>\n",
              "      <td>44.296075</td>\n",
              "    </tr>\n",
              "  </tbody>\n",
              "</table>\n",
              "</div>\n",
              "      <button class=\"colab-df-convert\" onclick=\"convertToInteractive('df-d80a413e-6f65-481a-bc68-1b795e8fe8d9')\"\n",
              "              title=\"Convert this dataframe to an interactive table.\"\n",
              "              style=\"display:none;\">\n",
              "        \n",
              "  <svg xmlns=\"http://www.w3.org/2000/svg\" height=\"24px\"viewBox=\"0 0 24 24\"\n",
              "       width=\"24px\">\n",
              "    <path d=\"M0 0h24v24H0V0z\" fill=\"none\"/>\n",
              "    <path d=\"M18.56 5.44l.94 2.06.94-2.06 2.06-.94-2.06-.94-.94-2.06-.94 2.06-2.06.94zm-11 1L8.5 8.5l.94-2.06 2.06-.94-2.06-.94L8.5 2.5l-.94 2.06-2.06.94zm10 10l.94 2.06.94-2.06 2.06-.94-2.06-.94-.94-2.06-.94 2.06-2.06.94z\"/><path d=\"M17.41 7.96l-1.37-1.37c-.4-.4-.92-.59-1.43-.59-.52 0-1.04.2-1.43.59L10.3 9.45l-7.72 7.72c-.78.78-.78 2.05 0 2.83L4 21.41c.39.39.9.59 1.41.59.51 0 1.02-.2 1.41-.59l7.78-7.78 2.81-2.81c.8-.78.8-2.07 0-2.86zM5.41 20L4 18.59l7.72-7.72 1.47 1.35L5.41 20z\"/>\n",
              "  </svg>\n",
              "      </button>\n",
              "      \n",
              "  <style>\n",
              "    .colab-df-container {\n",
              "      display:flex;\n",
              "      flex-wrap:wrap;\n",
              "      gap: 12px;\n",
              "    }\n",
              "\n",
              "    .colab-df-convert {\n",
              "      background-color: #E8F0FE;\n",
              "      border: none;\n",
              "      border-radius: 50%;\n",
              "      cursor: pointer;\n",
              "      display: none;\n",
              "      fill: #1967D2;\n",
              "      height: 32px;\n",
              "      padding: 0 0 0 0;\n",
              "      width: 32px;\n",
              "    }\n",
              "\n",
              "    .colab-df-convert:hover {\n",
              "      background-color: #E2EBFA;\n",
              "      box-shadow: 0px 1px 2px rgba(60, 64, 67, 0.3), 0px 1px 3px 1px rgba(60, 64, 67, 0.15);\n",
              "      fill: #174EA6;\n",
              "    }\n",
              "\n",
              "    [theme=dark] .colab-df-convert {\n",
              "      background-color: #3B4455;\n",
              "      fill: #D2E3FC;\n",
              "    }\n",
              "\n",
              "    [theme=dark] .colab-df-convert:hover {\n",
              "      background-color: #434B5C;\n",
              "      box-shadow: 0px 1px 3px 1px rgba(0, 0, 0, 0.15);\n",
              "      filter: drop-shadow(0px 1px 2px rgba(0, 0, 0, 0.3));\n",
              "      fill: #FFFFFF;\n",
              "    }\n",
              "  </style>\n",
              "\n",
              "      <script>\n",
              "        const buttonEl =\n",
              "          document.querySelector('#df-d80a413e-6f65-481a-bc68-1b795e8fe8d9 button.colab-df-convert');\n",
              "        buttonEl.style.display =\n",
              "          google.colab.kernel.accessAllowed ? 'block' : 'none';\n",
              "\n",
              "        async function convertToInteractive(key) {\n",
              "          const element = document.querySelector('#df-d80a413e-6f65-481a-bc68-1b795e8fe8d9');\n",
              "          const dataTable =\n",
              "            await google.colab.kernel.invokeFunction('convertToInteractive',\n",
              "                                                     [key], {});\n",
              "          if (!dataTable) return;\n",
              "\n",
              "          const docLinkHtml = 'Like what you see? Visit the ' +\n",
              "            '<a target=\"_blank\" href=https://colab.research.google.com/notebooks/data_table.ipynb>data table notebook</a>'\n",
              "            + ' to learn more about interactive tables.';\n",
              "          element.innerHTML = '';\n",
              "          dataTable['output_type'] = 'display_data';\n",
              "          await google.colab.output.renderOutput(dataTable, element);\n",
              "          const docLink = document.createElement('div');\n",
              "          docLink.innerHTML = docLinkHtml;\n",
              "          element.appendChild(docLink);\n",
              "        }\n",
              "      </script>\n",
              "    </div>\n",
              "  </div>\n",
              "  "
            ],
            "text/plain": [
              "   Cement  BlastFurnaceSlag  FlyAsh  ...  FineAggregare  Age  CC_Strength\n",
              "0   540.0               0.0     0.0  ...          676.0   28    79.986111\n",
              "1   540.0               0.0     0.0  ...          676.0   28    61.887366\n",
              "2   332.5             142.5     0.0  ...          594.0  270    40.269535\n",
              "3   332.5             142.5     0.0  ...          594.0  365    41.052780\n",
              "4   198.6             132.4     0.0  ...          825.5  360    44.296075\n",
              "\n",
              "[5 rows x 9 columns]"
            ]
          },
          "metadata": {},
          "execution_count": 21
        }
      ]
    },
    {
      "cell_type": "code",
      "source": [
        "train_dataset.describe().transpose()[['mean', 'std']]"
      ],
      "metadata": {
        "colab": {
          "base_uri": "https://localhost:8080/",
          "height": 331
        },
        "id": "r63Xc3Fr1Fjv",
        "outputId": "5eaa304b-66a4-4b07-a7f0-a543ada39a24"
      },
      "id": "r63Xc3Fr1Fjv",
      "execution_count": 22,
      "outputs": [
        {
          "output_type": "execute_result",
          "data": {
            "text/html": [
              "\n",
              "  <div id=\"df-34f9bd0d-4b60-4cd7-8fbc-1d54a3f56752\">\n",
              "    <div class=\"colab-df-container\">\n",
              "      <div>\n",
              "<style scoped>\n",
              "    .dataframe tbody tr th:only-of-type {\n",
              "        vertical-align: middle;\n",
              "    }\n",
              "\n",
              "    .dataframe tbody tr th {\n",
              "        vertical-align: top;\n",
              "    }\n",
              "\n",
              "    .dataframe thead th {\n",
              "        text-align: right;\n",
              "    }\n",
              "</style>\n",
              "<table border=\"1\" class=\"dataframe\">\n",
              "  <thead>\n",
              "    <tr style=\"text-align: right;\">\n",
              "      <th></th>\n",
              "      <th>mean</th>\n",
              "      <th>std</th>\n",
              "    </tr>\n",
              "  </thead>\n",
              "  <tbody>\n",
              "    <tr>\n",
              "      <th>Cement</th>\n",
              "      <td>280.270971</td>\n",
              "      <td>104.483845</td>\n",
              "    </tr>\n",
              "    <tr>\n",
              "      <th>BlastFurnaceSlag</th>\n",
              "      <td>73.170910</td>\n",
              "      <td>85.865408</td>\n",
              "    </tr>\n",
              "    <tr>\n",
              "      <th>FlyAsh</th>\n",
              "      <td>55.317124</td>\n",
              "      <td>64.097588</td>\n",
              "    </tr>\n",
              "    <tr>\n",
              "      <th>Water</th>\n",
              "      <td>182.029053</td>\n",
              "      <td>21.288882</td>\n",
              "    </tr>\n",
              "    <tr>\n",
              "      <th>Superplasticizer</th>\n",
              "      <td>6.146244</td>\n",
              "      <td>6.000398</td>\n",
              "    </tr>\n",
              "    <tr>\n",
              "      <th>CoarseAggregate</th>\n",
              "      <td>973.990789</td>\n",
              "      <td>77.755716</td>\n",
              "    </tr>\n",
              "    <tr>\n",
              "      <th>FineAggregare</th>\n",
              "      <td>771.896408</td>\n",
              "      <td>80.030794</td>\n",
              "    </tr>\n",
              "    <tr>\n",
              "      <th>Age</th>\n",
              "      <td>45.708738</td>\n",
              "      <td>63.603343</td>\n",
              "    </tr>\n",
              "    <tr>\n",
              "      <th>CC_Strength</th>\n",
              "      <td>35.739427</td>\n",
              "      <td>16.582077</td>\n",
              "    </tr>\n",
              "  </tbody>\n",
              "</table>\n",
              "</div>\n",
              "      <button class=\"colab-df-convert\" onclick=\"convertToInteractive('df-34f9bd0d-4b60-4cd7-8fbc-1d54a3f56752')\"\n",
              "              title=\"Convert this dataframe to an interactive table.\"\n",
              "              style=\"display:none;\">\n",
              "        \n",
              "  <svg xmlns=\"http://www.w3.org/2000/svg\" height=\"24px\"viewBox=\"0 0 24 24\"\n",
              "       width=\"24px\">\n",
              "    <path d=\"M0 0h24v24H0V0z\" fill=\"none\"/>\n",
              "    <path d=\"M18.56 5.44l.94 2.06.94-2.06 2.06-.94-2.06-.94-.94-2.06-.94 2.06-2.06.94zm-11 1L8.5 8.5l.94-2.06 2.06-.94-2.06-.94L8.5 2.5l-.94 2.06-2.06.94zm10 10l.94 2.06.94-2.06 2.06-.94-2.06-.94-.94-2.06-.94 2.06-2.06.94z\"/><path d=\"M17.41 7.96l-1.37-1.37c-.4-.4-.92-.59-1.43-.59-.52 0-1.04.2-1.43.59L10.3 9.45l-7.72 7.72c-.78.78-.78 2.05 0 2.83L4 21.41c.39.39.9.59 1.41.59.51 0 1.02-.2 1.41-.59l7.78-7.78 2.81-2.81c.8-.78.8-2.07 0-2.86zM5.41 20L4 18.59l7.72-7.72 1.47 1.35L5.41 20z\"/>\n",
              "  </svg>\n",
              "      </button>\n",
              "      \n",
              "  <style>\n",
              "    .colab-df-container {\n",
              "      display:flex;\n",
              "      flex-wrap:wrap;\n",
              "      gap: 12px;\n",
              "    }\n",
              "\n",
              "    .colab-df-convert {\n",
              "      background-color: #E8F0FE;\n",
              "      border: none;\n",
              "      border-radius: 50%;\n",
              "      cursor: pointer;\n",
              "      display: none;\n",
              "      fill: #1967D2;\n",
              "      height: 32px;\n",
              "      padding: 0 0 0 0;\n",
              "      width: 32px;\n",
              "    }\n",
              "\n",
              "    .colab-df-convert:hover {\n",
              "      background-color: #E2EBFA;\n",
              "      box-shadow: 0px 1px 2px rgba(60, 64, 67, 0.3), 0px 1px 3px 1px rgba(60, 64, 67, 0.15);\n",
              "      fill: #174EA6;\n",
              "    }\n",
              "\n",
              "    [theme=dark] .colab-df-convert {\n",
              "      background-color: #3B4455;\n",
              "      fill: #D2E3FC;\n",
              "    }\n",
              "\n",
              "    [theme=dark] .colab-df-convert:hover {\n",
              "      background-color: #434B5C;\n",
              "      box-shadow: 0px 1px 3px 1px rgba(0, 0, 0, 0.15);\n",
              "      filter: drop-shadow(0px 1px 2px rgba(0, 0, 0, 0.3));\n",
              "      fill: #FFFFFF;\n",
              "    }\n",
              "  </style>\n",
              "\n",
              "      <script>\n",
              "        const buttonEl =\n",
              "          document.querySelector('#df-34f9bd0d-4b60-4cd7-8fbc-1d54a3f56752 button.colab-df-convert');\n",
              "        buttonEl.style.display =\n",
              "          google.colab.kernel.accessAllowed ? 'block' : 'none';\n",
              "\n",
              "        async function convertToInteractive(key) {\n",
              "          const element = document.querySelector('#df-34f9bd0d-4b60-4cd7-8fbc-1d54a3f56752');\n",
              "          const dataTable =\n",
              "            await google.colab.kernel.invokeFunction('convertToInteractive',\n",
              "                                                     [key], {});\n",
              "          if (!dataTable) return;\n",
              "\n",
              "          const docLinkHtml = 'Like what you see? Visit the ' +\n",
              "            '<a target=\"_blank\" href=https://colab.research.google.com/notebooks/data_table.ipynb>data table notebook</a>'\n",
              "            + ' to learn more about interactive tables.';\n",
              "          element.innerHTML = '';\n",
              "          dataTable['output_type'] = 'display_data';\n",
              "          await google.colab.output.renderOutput(dataTable, element);\n",
              "          const docLink = document.createElement('div');\n",
              "          docLink.innerHTML = docLinkHtml;\n",
              "          element.appendChild(docLink);\n",
              "        }\n",
              "      </script>\n",
              "    </div>\n",
              "  </div>\n",
              "  "
            ],
            "text/plain": [
              "                        mean         std\n",
              "Cement            280.270971  104.483845\n",
              "BlastFurnaceSlag   73.170910   85.865408\n",
              "FlyAsh             55.317124   64.097588\n",
              "Water             182.029053   21.288882\n",
              "Superplasticizer    6.146244    6.000398\n",
              "CoarseAggregate   973.990789   77.755716\n",
              "FineAggregare     771.896408   80.030794\n",
              "Age                45.708738   63.603343\n",
              "CC_Strength        35.739427   16.582077"
            ]
          },
          "metadata": {},
          "execution_count": 22
        }
      ]
    },
    {
      "cell_type": "code",
      "source": [
        "train_features = train_dataset.copy()\n",
        "test_features = test_dataset.copy()\n",
        "\n",
        "train_labels = train_features.pop('CC_Strength')\n",
        "test_labels = test_features.pop('CC_Strength')"
      ],
      "metadata": {
        "id": "RVqMNYHy1dl7"
      },
      "id": "RVqMNYHy1dl7",
      "execution_count": 23,
      "outputs": []
    },
    {
      "cell_type": "code",
      "source": [
        "train_features"
      ],
      "metadata": {
        "colab": {
          "base_uri": "https://localhost:8080/",
          "height": 423
        },
        "id": "EQ6pLCDiPQKq",
        "outputId": "47f31a1c-3a20-4b4f-f9c8-4c577d7f973f"
      },
      "id": "EQ6pLCDiPQKq",
      "execution_count": 24,
      "outputs": [
        {
          "output_type": "execute_result",
          "data": {
            "text/html": [
              "\n",
              "  <div id=\"df-fa98159d-29a4-406d-a457-d591da154c7b\">\n",
              "    <div class=\"colab-df-container\">\n",
              "      <div>\n",
              "<style scoped>\n",
              "    .dataframe tbody tr th:only-of-type {\n",
              "        vertical-align: middle;\n",
              "    }\n",
              "\n",
              "    .dataframe tbody tr th {\n",
              "        vertical-align: top;\n",
              "    }\n",
              "\n",
              "    .dataframe thead th {\n",
              "        text-align: right;\n",
              "    }\n",
              "</style>\n",
              "<table border=\"1\" class=\"dataframe\">\n",
              "  <thead>\n",
              "    <tr style=\"text-align: right;\">\n",
              "      <th></th>\n",
              "      <th>Cement</th>\n",
              "      <th>BlastFurnaceSlag</th>\n",
              "      <th>FlyAsh</th>\n",
              "      <th>Water</th>\n",
              "      <th>Superplasticizer</th>\n",
              "      <th>CoarseAggregate</th>\n",
              "      <th>FineAggregare</th>\n",
              "      <th>Age</th>\n",
              "    </tr>\n",
              "  </thead>\n",
              "  <tbody>\n",
              "    <tr>\n",
              "      <th>747</th>\n",
              "      <td>500.0</td>\n",
              "      <td>0.00</td>\n",
              "      <td>0.00</td>\n",
              "      <td>200.00</td>\n",
              "      <td>0.00</td>\n",
              "      <td>1125.0</td>\n",
              "      <td>613.0</td>\n",
              "      <td>3</td>\n",
              "    </tr>\n",
              "    <tr>\n",
              "      <th>718</th>\n",
              "      <td>122.6</td>\n",
              "      <td>183.90</td>\n",
              "      <td>0.00</td>\n",
              "      <td>203.50</td>\n",
              "      <td>0.00</td>\n",
              "      <td>958.2</td>\n",
              "      <td>800.1</td>\n",
              "      <td>7</td>\n",
              "    </tr>\n",
              "    <tr>\n",
              "      <th>175</th>\n",
              "      <td>362.6</td>\n",
              "      <td>189.00</td>\n",
              "      <td>0.00</td>\n",
              "      <td>164.90</td>\n",
              "      <td>11.60</td>\n",
              "      <td>944.7</td>\n",
              "      <td>755.8</td>\n",
              "      <td>91</td>\n",
              "    </tr>\n",
              "    <tr>\n",
              "      <th>828</th>\n",
              "      <td>522.0</td>\n",
              "      <td>0.00</td>\n",
              "      <td>0.00</td>\n",
              "      <td>146.00</td>\n",
              "      <td>0.00</td>\n",
              "      <td>896.0</td>\n",
              "      <td>896.0</td>\n",
              "      <td>28</td>\n",
              "    </tr>\n",
              "    <tr>\n",
              "      <th>713</th>\n",
              "      <td>157.0</td>\n",
              "      <td>236.00</td>\n",
              "      <td>0.00</td>\n",
              "      <td>192.00</td>\n",
              "      <td>0.00</td>\n",
              "      <td>935.4</td>\n",
              "      <td>781.2</td>\n",
              "      <td>3</td>\n",
              "    </tr>\n",
              "    <tr>\n",
              "      <th>...</th>\n",
              "      <td>...</td>\n",
              "      <td>...</td>\n",
              "      <td>...</td>\n",
              "      <td>...</td>\n",
              "      <td>...</td>\n",
              "      <td>...</td>\n",
              "      <td>...</td>\n",
              "      <td>...</td>\n",
              "    </tr>\n",
              "    <tr>\n",
              "      <th>673</th>\n",
              "      <td>212.0</td>\n",
              "      <td>141.30</td>\n",
              "      <td>0.00</td>\n",
              "      <td>203.50</td>\n",
              "      <td>0.00</td>\n",
              "      <td>973.4</td>\n",
              "      <td>750.0</td>\n",
              "      <td>7</td>\n",
              "    </tr>\n",
              "    <tr>\n",
              "      <th>595</th>\n",
              "      <td>186.2</td>\n",
              "      <td>124.10</td>\n",
              "      <td>0.00</td>\n",
              "      <td>185.70</td>\n",
              "      <td>0.00</td>\n",
              "      <td>1083.4</td>\n",
              "      <td>764.3</td>\n",
              "      <td>28</td>\n",
              "    </tr>\n",
              "    <tr>\n",
              "      <th>445</th>\n",
              "      <td>165.0</td>\n",
              "      <td>0.02</td>\n",
              "      <td>143.57</td>\n",
              "      <td>163.81</td>\n",
              "      <td>0.00</td>\n",
              "      <td>1005.6</td>\n",
              "      <td>900.9</td>\n",
              "      <td>56</td>\n",
              "    </tr>\n",
              "    <tr>\n",
              "      <th>117</th>\n",
              "      <td>313.3</td>\n",
              "      <td>262.20</td>\n",
              "      <td>0.00</td>\n",
              "      <td>175.50</td>\n",
              "      <td>8.60</td>\n",
              "      <td>1046.9</td>\n",
              "      <td>611.8</td>\n",
              "      <td>28</td>\n",
              "    </tr>\n",
              "    <tr>\n",
              "      <th>464</th>\n",
              "      <td>167.0</td>\n",
              "      <td>75.40</td>\n",
              "      <td>167.00</td>\n",
              "      <td>164.03</td>\n",
              "      <td>7.91</td>\n",
              "      <td>1007.3</td>\n",
              "      <td>770.1</td>\n",
              "      <td>100</td>\n",
              "    </tr>\n",
              "  </tbody>\n",
              "</table>\n",
              "<p>824 rows × 8 columns</p>\n",
              "</div>\n",
              "      <button class=\"colab-df-convert\" onclick=\"convertToInteractive('df-fa98159d-29a4-406d-a457-d591da154c7b')\"\n",
              "              title=\"Convert this dataframe to an interactive table.\"\n",
              "              style=\"display:none;\">\n",
              "        \n",
              "  <svg xmlns=\"http://www.w3.org/2000/svg\" height=\"24px\"viewBox=\"0 0 24 24\"\n",
              "       width=\"24px\">\n",
              "    <path d=\"M0 0h24v24H0V0z\" fill=\"none\"/>\n",
              "    <path d=\"M18.56 5.44l.94 2.06.94-2.06 2.06-.94-2.06-.94-.94-2.06-.94 2.06-2.06.94zm-11 1L8.5 8.5l.94-2.06 2.06-.94-2.06-.94L8.5 2.5l-.94 2.06-2.06.94zm10 10l.94 2.06.94-2.06 2.06-.94-2.06-.94-.94-2.06-.94 2.06-2.06.94z\"/><path d=\"M17.41 7.96l-1.37-1.37c-.4-.4-.92-.59-1.43-.59-.52 0-1.04.2-1.43.59L10.3 9.45l-7.72 7.72c-.78.78-.78 2.05 0 2.83L4 21.41c.39.39.9.59 1.41.59.51 0 1.02-.2 1.41-.59l7.78-7.78 2.81-2.81c.8-.78.8-2.07 0-2.86zM5.41 20L4 18.59l7.72-7.72 1.47 1.35L5.41 20z\"/>\n",
              "  </svg>\n",
              "      </button>\n",
              "      \n",
              "  <style>\n",
              "    .colab-df-container {\n",
              "      display:flex;\n",
              "      flex-wrap:wrap;\n",
              "      gap: 12px;\n",
              "    }\n",
              "\n",
              "    .colab-df-convert {\n",
              "      background-color: #E8F0FE;\n",
              "      border: none;\n",
              "      border-radius: 50%;\n",
              "      cursor: pointer;\n",
              "      display: none;\n",
              "      fill: #1967D2;\n",
              "      height: 32px;\n",
              "      padding: 0 0 0 0;\n",
              "      width: 32px;\n",
              "    }\n",
              "\n",
              "    .colab-df-convert:hover {\n",
              "      background-color: #E2EBFA;\n",
              "      box-shadow: 0px 1px 2px rgba(60, 64, 67, 0.3), 0px 1px 3px 1px rgba(60, 64, 67, 0.15);\n",
              "      fill: #174EA6;\n",
              "    }\n",
              "\n",
              "    [theme=dark] .colab-df-convert {\n",
              "      background-color: #3B4455;\n",
              "      fill: #D2E3FC;\n",
              "    }\n",
              "\n",
              "    [theme=dark] .colab-df-convert:hover {\n",
              "      background-color: #434B5C;\n",
              "      box-shadow: 0px 1px 3px 1px rgba(0, 0, 0, 0.15);\n",
              "      filter: drop-shadow(0px 1px 2px rgba(0, 0, 0, 0.3));\n",
              "      fill: #FFFFFF;\n",
              "    }\n",
              "  </style>\n",
              "\n",
              "      <script>\n",
              "        const buttonEl =\n",
              "          document.querySelector('#df-fa98159d-29a4-406d-a457-d591da154c7b button.colab-df-convert');\n",
              "        buttonEl.style.display =\n",
              "          google.colab.kernel.accessAllowed ? 'block' : 'none';\n",
              "\n",
              "        async function convertToInteractive(key) {\n",
              "          const element = document.querySelector('#df-fa98159d-29a4-406d-a457-d591da154c7b');\n",
              "          const dataTable =\n",
              "            await google.colab.kernel.invokeFunction('convertToInteractive',\n",
              "                                                     [key], {});\n",
              "          if (!dataTable) return;\n",
              "\n",
              "          const docLinkHtml = 'Like what you see? Visit the ' +\n",
              "            '<a target=\"_blank\" href=https://colab.research.google.com/notebooks/data_table.ipynb>data table notebook</a>'\n",
              "            + ' to learn more about interactive tables.';\n",
              "          element.innerHTML = '';\n",
              "          dataTable['output_type'] = 'display_data';\n",
              "          await google.colab.output.renderOutput(dataTable, element);\n",
              "          const docLink = document.createElement('div');\n",
              "          docLink.innerHTML = docLinkHtml;\n",
              "          element.appendChild(docLink);\n",
              "        }\n",
              "      </script>\n",
              "    </div>\n",
              "  </div>\n",
              "  "
            ],
            "text/plain": [
              "     Cement  BlastFurnaceSlag  FlyAsh  ...  CoarseAggregate  FineAggregare  Age\n",
              "747   500.0              0.00    0.00  ...           1125.0          613.0    3\n",
              "718   122.6            183.90    0.00  ...            958.2          800.1    7\n",
              "175   362.6            189.00    0.00  ...            944.7          755.8   91\n",
              "828   522.0              0.00    0.00  ...            896.0          896.0   28\n",
              "713   157.0            236.00    0.00  ...            935.4          781.2    3\n",
              "..      ...               ...     ...  ...              ...            ...  ...\n",
              "673   212.0            141.30    0.00  ...            973.4          750.0    7\n",
              "595   186.2            124.10    0.00  ...           1083.4          764.3   28\n",
              "445   165.0              0.02  143.57  ...           1005.6          900.9   56\n",
              "117   313.3            262.20    0.00  ...           1046.9          611.8   28\n",
              "464   167.0             75.40  167.00  ...           1007.3          770.1  100\n",
              "\n",
              "[824 rows x 8 columns]"
            ]
          },
          "metadata": {},
          "execution_count": 24
        }
      ]
    },
    {
      "cell_type": "code",
      "source": [
        "import seaborn as sns\n",
        "from tensorflow import keras\n",
        "from tensorflow.keras import layers\n",
        "\n",
        "print(tf.__version__)"
      ],
      "metadata": {
        "colab": {
          "base_uri": "https://localhost:8080/"
        },
        "id": "r1wpTRMn1leI",
        "outputId": "40b924e6-c28f-4856-94a8-c4004648b83f"
      },
      "id": "r1wpTRMn1leI",
      "execution_count": 25,
      "outputs": [
        {
          "output_type": "stream",
          "name": "stdout",
          "text": [
            "2.7.0\n"
          ]
        }
      ]
    },
    {
      "cell_type": "code",
      "source": [
        "normalizer = tf.keras.layers.Normalization(axis=-1)"
      ],
      "metadata": {
        "id": "7LI5TDJp1R-M"
      },
      "id": "7LI5TDJp1R-M",
      "execution_count": 26,
      "outputs": []
    },
    {
      "cell_type": "code",
      "source": [
        "normalizer.adapt(np.array(train_features))"
      ],
      "metadata": {
        "id": "pj75v-r31llc"
      },
      "id": "pj75v-r31llc",
      "execution_count": 27,
      "outputs": []
    },
    {
      "cell_type": "code",
      "source": [
        "print(normalizer.mean.numpy())"
      ],
      "metadata": {
        "colab": {
          "base_uri": "https://localhost:8080/"
        },
        "id": "_NxrnjD_2M5E",
        "outputId": "837f7ae5-17be-42f8-cd03-f686fcba6f5e"
      },
      "id": "_NxrnjD_2M5E",
      "execution_count": 28,
      "outputs": [
        {
          "output_type": "stream",
          "name": "stdout",
          "text": [
            "[[280.271      73.170906   55.31712   182.02904     6.1462445 973.99084\n",
            "  771.8964     45.708733 ]]\n"
          ]
        }
      ]
    },
    {
      "cell_type": "code",
      "source": [
        "######################### Linear reg WITH ONE VARIABLE  \n"
      ],
      "metadata": {
        "id": "lMDM_92G2M7m"
      },
      "id": "lMDM_92G2M7m",
      "execution_count": 29,
      "outputs": []
    },
    {
      "cell_type": "code",
      "source": [
        "first = np.array(train_features[:1])\n",
        "\n",
        "with np.printoptions(precision=2, suppress=True):\n",
        "  print('First example:', first)\n",
        "  print()\n",
        "  print('Normalized:', normalizer(first).numpy())"
      ],
      "metadata": {
        "colab": {
          "base_uri": "https://localhost:8080/"
        },
        "id": "1LW5Od8BmEOo",
        "outputId": "c2af1db0-404a-4b04-9b2c-ed5667181da2"
      },
      "id": "1LW5Od8BmEOo",
      "execution_count": 30,
      "outputs": [
        {
          "output_type": "stream",
          "name": "stdout",
          "text": [
            "First example: [[ 500.    0.    0.  200.    0. 1125.  613.    3.]]\n",
            "\n",
            "Normalized: [[ 2.1  -0.85 -0.86  0.84 -1.02  1.94 -1.99 -0.67]]\n"
          ]
        }
      ]
    },
    {
      "cell_type": "code",
      "source": [
        "\n",
        "CementT = np.array(train_features['Cement'])\n",
        "\n",
        "CementT_normalizer = layers.Normalization(input_shape=[1,], axis=None)\n",
        "CementT_normalizer.adapt(CementT)"
      ],
      "metadata": {
        "id": "VHAnbiKs4QzW"
      },
      "id": "VHAnbiKs4QzW",
      "execution_count": 31,
      "outputs": []
    },
    {
      "cell_type": "code",
      "source": [
        "np.size(CementT)\n",
        "print(0.8*1030)"
      ],
      "metadata": {
        "colab": {
          "base_uri": "https://localhost:8080/"
        },
        "id": "YSDY1-C9mzda",
        "outputId": "9d2da69a-4e67-4d9a-dce6-aa67a4800cc1"
      },
      "id": "YSDY1-C9mzda",
      "execution_count": 32,
      "outputs": [
        {
          "output_type": "stream",
          "name": "stdout",
          "text": [
            "824.0\n"
          ]
        }
      ]
    },
    {
      "cell_type": "code",
      "source": [
        "CementT_model = tf.keras.Sequential([\n",
        "    CementT_normalizer,\n",
        "    layers.Dense(units=1)\n",
        "])\n",
        "\n",
        "CementT_model.summary()"
      ],
      "metadata": {
        "colab": {
          "base_uri": "https://localhost:8080/"
        },
        "id": "WHIwrs1Z4Q12",
        "outputId": "48765721-2ad4-442d-8d3b-8e5f05ace92d"
      },
      "id": "WHIwrs1Z4Q12",
      "execution_count": 33,
      "outputs": [
        {
          "output_type": "stream",
          "name": "stdout",
          "text": [
            "Model: \"sequential\"\n",
            "_________________________________________________________________\n",
            " Layer (type)                Output Shape              Param #   \n",
            "=================================================================\n",
            " normalization_1 (Normalizat  (None, 1)                3         \n",
            " ion)                                                            \n",
            "                                                                 \n",
            " dense (Dense)               (None, 1)                 2         \n",
            "                                                                 \n",
            "=================================================================\n",
            "Total params: 5\n",
            "Trainable params: 2\n",
            "Non-trainable params: 3\n",
            "_________________________________________________________________\n"
          ]
        }
      ]
    },
    {
      "cell_type": "code",
      "source": [
        "CementT_model.predict(CementT[:10])"
      ],
      "metadata": {
        "colab": {
          "base_uri": "https://localhost:8080/"
        },
        "id": "HJXtn1c64Q6F",
        "outputId": "78b67981-097b-4ef9-d8db-490790f146ad"
      },
      "id": "HJXtn1c64Q6F",
      "execution_count": 34,
      "outputs": [
        {
          "output_type": "execute_result",
          "data": {
            "text/plain": [
              "array([[-1.5967734 ],\n",
              "       [ 1.1457967 ],\n",
              "       [-0.59828603],\n",
              "       [-1.7566476 ],\n",
              "       [ 0.8958115 ],\n",
              "       [-0.72109854],\n",
              "       [-0.5503237 ],\n",
              "       [ 0.65352935],\n",
              "       [-1.8874538 ],\n",
              "       [-0.4485856 ]], dtype=float32)"
            ]
          },
          "metadata": {},
          "execution_count": 34
        }
      ]
    },
    {
      "cell_type": "code",
      "source": [
        "CementT_model.compile(\n",
        "    optimizer=tf.optimizers.Adam(learning_rate=0.1),\n",
        "    loss='mean_absolute_error')"
      ],
      "metadata": {
        "id": "unY7w1Ws4Q-u"
      },
      "id": "unY7w1Ws4Q-u",
      "execution_count": 35,
      "outputs": []
    },
    {
      "cell_type": "code",
      "source": [
        "%%time\n",
        "history = CementT_model.fit(\n",
        "    train_features['Cement'],\n",
        "    train_labels,\n",
        "    epochs=100,\n",
        "    # Suppress logging.\n",
        "    verbose=0,\n",
        "    # Calculate validation results on 20% of the training data.\n",
        "    validation_split = 0.2)"
      ],
      "metadata": {
        "colab": {
          "base_uri": "https://localhost:8080/"
        },
        "id": "3ToqtsBP7b8G",
        "outputId": "058a26c1-91a8-4c75-e820-c37d8a1852c4"
      },
      "id": "3ToqtsBP7b8G",
      "execution_count": 36,
      "outputs": [
        {
          "output_type": "stream",
          "name": "stdout",
          "text": [
            "CPU times: user 5.4 s, sys: 305 ms, total: 5.71 s\n",
            "Wall time: 10.7 s\n"
          ]
        }
      ]
    },
    {
      "cell_type": "code",
      "source": [
        "hist = pd.DataFrame(history.history)\n",
        "hist['epoch'] = history.epoch\n",
        "hist.tail()"
      ],
      "metadata": {
        "colab": {
          "base_uri": "https://localhost:8080/",
          "height": 206
        },
        "id": "nzebzzgjyHCP",
        "outputId": "48c35b1a-7b39-4bcc-99a5-8a5470a6e7a3"
      },
      "id": "nzebzzgjyHCP",
      "execution_count": 37,
      "outputs": [
        {
          "output_type": "execute_result",
          "data": {
            "text/html": [
              "\n",
              "  <div id=\"df-d753bf38-249e-4ea0-9d68-5f911044bda2\">\n",
              "    <div class=\"colab-df-container\">\n",
              "      <div>\n",
              "<style scoped>\n",
              "    .dataframe tbody tr th:only-of-type {\n",
              "        vertical-align: middle;\n",
              "    }\n",
              "\n",
              "    .dataframe tbody tr th {\n",
              "        vertical-align: top;\n",
              "    }\n",
              "\n",
              "    .dataframe thead th {\n",
              "        text-align: right;\n",
              "    }\n",
              "</style>\n",
              "<table border=\"1\" class=\"dataframe\">\n",
              "  <thead>\n",
              "    <tr style=\"text-align: right;\">\n",
              "      <th></th>\n",
              "      <th>loss</th>\n",
              "      <th>val_loss</th>\n",
              "      <th>epoch</th>\n",
              "    </tr>\n",
              "  </thead>\n",
              "  <tbody>\n",
              "    <tr>\n",
              "      <th>95</th>\n",
              "      <td>11.885419</td>\n",
              "      <td>11.803761</td>\n",
              "      <td>95</td>\n",
              "    </tr>\n",
              "    <tr>\n",
              "      <th>96</th>\n",
              "      <td>11.887644</td>\n",
              "      <td>11.744624</td>\n",
              "      <td>96</td>\n",
              "    </tr>\n",
              "    <tr>\n",
              "      <th>97</th>\n",
              "      <td>11.880498</td>\n",
              "      <td>11.768040</td>\n",
              "      <td>97</td>\n",
              "    </tr>\n",
              "    <tr>\n",
              "      <th>98</th>\n",
              "      <td>11.884850</td>\n",
              "      <td>11.744402</td>\n",
              "      <td>98</td>\n",
              "    </tr>\n",
              "    <tr>\n",
              "      <th>99</th>\n",
              "      <td>11.878765</td>\n",
              "      <td>11.760054</td>\n",
              "      <td>99</td>\n",
              "    </tr>\n",
              "  </tbody>\n",
              "</table>\n",
              "</div>\n",
              "      <button class=\"colab-df-convert\" onclick=\"convertToInteractive('df-d753bf38-249e-4ea0-9d68-5f911044bda2')\"\n",
              "              title=\"Convert this dataframe to an interactive table.\"\n",
              "              style=\"display:none;\">\n",
              "        \n",
              "  <svg xmlns=\"http://www.w3.org/2000/svg\" height=\"24px\"viewBox=\"0 0 24 24\"\n",
              "       width=\"24px\">\n",
              "    <path d=\"M0 0h24v24H0V0z\" fill=\"none\"/>\n",
              "    <path d=\"M18.56 5.44l.94 2.06.94-2.06 2.06-.94-2.06-.94-.94-2.06-.94 2.06-2.06.94zm-11 1L8.5 8.5l.94-2.06 2.06-.94-2.06-.94L8.5 2.5l-.94 2.06-2.06.94zm10 10l.94 2.06.94-2.06 2.06-.94-2.06-.94-.94-2.06-.94 2.06-2.06.94z\"/><path d=\"M17.41 7.96l-1.37-1.37c-.4-.4-.92-.59-1.43-.59-.52 0-1.04.2-1.43.59L10.3 9.45l-7.72 7.72c-.78.78-.78 2.05 0 2.83L4 21.41c.39.39.9.59 1.41.59.51 0 1.02-.2 1.41-.59l7.78-7.78 2.81-2.81c.8-.78.8-2.07 0-2.86zM5.41 20L4 18.59l7.72-7.72 1.47 1.35L5.41 20z\"/>\n",
              "  </svg>\n",
              "      </button>\n",
              "      \n",
              "  <style>\n",
              "    .colab-df-container {\n",
              "      display:flex;\n",
              "      flex-wrap:wrap;\n",
              "      gap: 12px;\n",
              "    }\n",
              "\n",
              "    .colab-df-convert {\n",
              "      background-color: #E8F0FE;\n",
              "      border: none;\n",
              "      border-radius: 50%;\n",
              "      cursor: pointer;\n",
              "      display: none;\n",
              "      fill: #1967D2;\n",
              "      height: 32px;\n",
              "      padding: 0 0 0 0;\n",
              "      width: 32px;\n",
              "    }\n",
              "\n",
              "    .colab-df-convert:hover {\n",
              "      background-color: #E2EBFA;\n",
              "      box-shadow: 0px 1px 2px rgba(60, 64, 67, 0.3), 0px 1px 3px 1px rgba(60, 64, 67, 0.15);\n",
              "      fill: #174EA6;\n",
              "    }\n",
              "\n",
              "    [theme=dark] .colab-df-convert {\n",
              "      background-color: #3B4455;\n",
              "      fill: #D2E3FC;\n",
              "    }\n",
              "\n",
              "    [theme=dark] .colab-df-convert:hover {\n",
              "      background-color: #434B5C;\n",
              "      box-shadow: 0px 1px 3px 1px rgba(0, 0, 0, 0.15);\n",
              "      filter: drop-shadow(0px 1px 2px rgba(0, 0, 0, 0.3));\n",
              "      fill: #FFFFFF;\n",
              "    }\n",
              "  </style>\n",
              "\n",
              "      <script>\n",
              "        const buttonEl =\n",
              "          document.querySelector('#df-d753bf38-249e-4ea0-9d68-5f911044bda2 button.colab-df-convert');\n",
              "        buttonEl.style.display =\n",
              "          google.colab.kernel.accessAllowed ? 'block' : 'none';\n",
              "\n",
              "        async function convertToInteractive(key) {\n",
              "          const element = document.querySelector('#df-d753bf38-249e-4ea0-9d68-5f911044bda2');\n",
              "          const dataTable =\n",
              "            await google.colab.kernel.invokeFunction('convertToInteractive',\n",
              "                                                     [key], {});\n",
              "          if (!dataTable) return;\n",
              "\n",
              "          const docLinkHtml = 'Like what you see? Visit the ' +\n",
              "            '<a target=\"_blank\" href=https://colab.research.google.com/notebooks/data_table.ipynb>data table notebook</a>'\n",
              "            + ' to learn more about interactive tables.';\n",
              "          element.innerHTML = '';\n",
              "          dataTable['output_type'] = 'display_data';\n",
              "          await google.colab.output.renderOutput(dataTable, element);\n",
              "          const docLink = document.createElement('div');\n",
              "          docLink.innerHTML = docLinkHtml;\n",
              "          element.appendChild(docLink);\n",
              "        }\n",
              "      </script>\n",
              "    </div>\n",
              "  </div>\n",
              "  "
            ],
            "text/plain": [
              "         loss   val_loss  epoch\n",
              "95  11.885419  11.803761     95\n",
              "96  11.887644  11.744624     96\n",
              "97  11.880498  11.768040     97\n",
              "98  11.884850  11.744402     98\n",
              "99  11.878765  11.760054     99"
            ]
          },
          "metadata": {},
          "execution_count": 37
        }
      ]
    },
    {
      "cell_type": "code",
      "source": [
        "import matplotlib.pyplot as plt"
      ],
      "metadata": {
        "id": "-hR3Wp9Cy6WR"
      },
      "id": "-hR3Wp9Cy6WR",
      "execution_count": 38,
      "outputs": []
    },
    {
      "cell_type": "code",
      "source": [
        "def plot_loss(history):\n",
        "  plt.plot(history.history['loss'], label='loss')\n",
        "  plt.plot(history.history['val_loss'], label='val_loss')\n",
        "  plt.ylim([0, 20])\n",
        "  plt.xlabel('Epoch')\n",
        "  plt.ylabel('Error [CC_Strength]')\n",
        "  plt.legend()\n",
        "  plt.grid(True)"
      ],
      "metadata": {
        "id": "WRJsGJMqyMFE"
      },
      "id": "WRJsGJMqyMFE",
      "execution_count": 45,
      "outputs": []
    },
    {
      "cell_type": "code",
      "source": [
        "plot_loss(history)"
      ],
      "metadata": {
        "colab": {
          "base_uri": "https://localhost:8080/",
          "height": 283
        },
        "id": "4R52xylRyzwz",
        "outputId": "f9163e0f-6971-41ff-baa0-e53da8a9b9da"
      },
      "id": "4R52xylRyzwz",
      "execution_count": 46,
      "outputs": [
        {
          "output_type": "display_data",
          "data": {
            "image/png": "[encoded data removed]",
            "text/plain": [
              "<Figure size 432x288 with 1 Axes>"
            ]
          },
          "metadata": {
            "needs_background": "light"
          }
        }
      ]
    },
    {
      "cell_type": "code",
      "source": [
        "test_results = {}\n",
        "\n",
        "test_results['CementT_model'] = CementT_model.evaluate(\n",
        "    test_features['Cement'],\n",
        "    test_labels, verbose=0)"
      ],
      "metadata": {
        "id": "cey5pdjQzMpQ"
      },
      "id": "cey5pdjQzMpQ",
      "execution_count": 47,
      "outputs": []
    },
    {
      "cell_type": "code",
      "source": [
        "x = tf.linspace(0.0, 823, 824)\n",
        "y = CementT_model.predict(x)"
      ],
      "metadata": {
        "id": "F1WaCltQzMth"
      },
      "id": "F1WaCltQzMth",
      "execution_count": 53,
      "outputs": []
    },
    {
      "cell_type": "code",
      "source": [
        "def plot_concrete(x, y):\n",
        "  plt.scatter(train_features['Cement'], train_labels, label='Data')\n",
        "  plt.plot(x, y, color='k', label='Predictions')\n",
        "  plt.xlabel('Cement')\n",
        "  plt.ylabel('CC_Strength')\n",
        "  plt.legend()"
      ],
      "metadata": {
        "id": "QyNuziHHzMyf"
      },
      "id": "QyNuziHHzMyf",
      "execution_count": 54,
      "outputs": []
    },
    {
      "cell_type": "code",
      "source": [
        "plot_concrete(x, y)"
      ],
      "metadata": {
        "colab": {
          "base_uri": "https://localhost:8080/",
          "height": 279
        },
        "id": "q5bYACjszM2R",
        "outputId": "2ec8b939-78ed-4501-cee2-9fa406271809"
      },
      "id": "q5bYACjszM2R",
      "execution_count": 55,
      "outputs": [
        {
          "output_type": "display_data",
          "data": {
            "image/png": "[encoded data removed]",
            "text/plain": [
              "<Figure size 432x288 with 1 Axes>"
            ]
          },
          "metadata": {
            "needs_background": "light"
          }
        }
      ]
    },
    {
      "cell_type": "code",
      "source": [
        "######################### Linear reg WITH MULTIPLE VARIABLE  #########################"
      ],
      "metadata": {
        "id": "bEcxVREe4RBi"
      },
      "id": "bEcxVREe4RBi",
      "execution_count": null,
      "outputs": []
    },
    {
      "cell_type": "code",
      "source": [
        "#Build the model \n",
        "linear_model = tf.keras.Sequential([\n",
        "    normalizer,\n",
        "    layers.Dense(units=1)\n",
        "])"
      ],
      "metadata": {
        "id": "I-RqF_Vy2nmo"
      },
      "id": "I-RqF_Vy2nmo",
      "execution_count": 56,
      "outputs": []
    },
    {
      "cell_type": "code",
      "source": [
        "linear_model.predict(train_features[:10])"
      ],
      "metadata": {
        "colab": {
          "base_uri": "https://localhost:8080/"
        },
        "id": "QLHIGlzk207q",
        "outputId": "1ea8c88a-8852-434d-9fc4-8a9980b3e1fd"
      },
      "id": "QLHIGlzk207q",
      "execution_count": 57,
      "outputs": [
        {
          "output_type": "execute_result",
          "data": {
            "text/plain": [
              "array([[ 1.6179893 ],\n",
              "       [ 0.73048675],\n",
              "       [-0.33752844],\n",
              "       [ 1.8906912 ],\n",
              "       [ 0.5618684 ],\n",
              "       [-0.37572554],\n",
              "       [ 0.23431808],\n",
              "       [-0.8399616 ],\n",
              "       [ 1.4234028 ],\n",
              "       [ 0.67023337]], dtype=float32)"
            ]
          },
          "metadata": {},
          "execution_count": 57
        }
      ]
    },
    {
      "cell_type": "code",
      "source": [
        "linear_model.layers[1].kernel"
      ],
      "metadata": {
        "colab": {
          "base_uri": "https://localhost:8080/"
        },
        "id": "4C8BNWDL21A9",
        "outputId": "be34b6c0-8c64-41a9-d4f0-989f724dadef"
      },
      "id": "4C8BNWDL21A9",
      "execution_count": 58,
      "outputs": [
        {
          "output_type": "execute_result",
          "data": {
            "text/plain": [
              "<tf.Variable 'dense_1/kernel:0' shape=(8, 1) dtype=float32, numpy=\n",
              "array([[ 0.1216262 ],\n",
              "       [-0.3431492 ],\n",
              "       [-0.76361525],\n",
              "       [ 0.02941376],\n",
              "       [-0.4343566 ],\n",
              "       [-0.05300713],\n",
              "       [ 0.08028615],\n",
              "       [-0.30142778]], dtype=float32)>"
            ]
          },
          "metadata": {},
          "execution_count": 58
        }
      ]
    },
    {
      "cell_type": "code",
      "source": [
        "linear_model.compile(\n",
        "    optimizer=tf.optimizers.Adam(learning_rate=0.1),\n",
        "    loss='mean_absolute_error')"
      ],
      "metadata": {
        "id": "cwk70ZNs3BM7"
      },
      "id": "cwk70ZNs3BM7",
      "execution_count": 59,
      "outputs": []
    },
    {
      "cell_type": "code",
      "source": [
        "%%time\n",
        "history = linear_model.fit(\n",
        "    train_features,\n",
        "    train_labels,\n",
        "    epochs=100,\n",
        "    # Suppress logging.\n",
        "    verbose=0,\n",
        "    # Calculate validation results on 20% of the training data.\n",
        "    validation_split = 0.2)"
      ],
      "metadata": {
        "colab": {
          "base_uri": "https://localhost:8080/"
        },
        "id": "szPnJNCP3BVE",
        "outputId": "69fe164a-cb52-4cd2-dfa7-6d051fdcbdf4"
      },
      "id": "szPnJNCP3BVE",
      "execution_count": 60,
      "outputs": [
        {
          "output_type": "stream",
          "name": "stdout",
          "text": [
            "CPU times: user 5.46 s, sys: 331 ms, total: 5.79 s\n",
            "Wall time: 10.6 s\n"
          ]
        }
      ]
    },
    {
      "cell_type": "code",
      "source": [
        "plot_loss(history)"
      ],
      "metadata": {
        "colab": {
          "base_uri": "https://localhost:8080/",
          "height": 283
        },
        "id": "8hf4W4Oe3Bby",
        "outputId": "51eb5752-f767-4e2d-dc93-f80e0cf04220"
      },
      "id": "8hf4W4Oe3Bby",
      "execution_count": 61,
      "outputs": [
        {
          "output_type": "display_data",
          "data": {
            "image/png": "[encoded data removed]",
            "text/plain": [
              "<Figure size 432x288 with 1 Axes>"
            ]
          },
          "metadata": {
            "needs_background": "light"
          }
        }
      ]
    },
    {
      "cell_type": "code",
      "source": [
        "test_results['linear_model'] = linear_model.evaluate(\n",
        "    test_features, test_labels, verbose=0)"
      ],
      "metadata": {
        "id": "19vzopwR3BgP"
      },
      "id": "19vzopwR3BgP",
      "execution_count": 62,
      "outputs": []
    },
    {
      "cell_type": "code",
      "source": [
        "##################### Neural network with one layer ############################"
      ],
      "metadata": {
        "id": "82MO6TKr05hf"
      },
      "id": "82MO6TKr05hf",
      "execution_count": null,
      "outputs": []
    },
    {
      "cell_type": "code",
      "execution_count": 63,
      "id": "f83b4a2c",
      "metadata": {
        "id": "f83b4a2c"
      },
      "outputs": [],
      "source": [
        "\n",
        "from keras.models import Sequential\n",
        "from keras.layers import Dense\n",
        "from keras.wrappers.scikit_learn import KerasRegressor\n",
        "from sklearn.model_selection import cross_val_score\n",
        "from sklearn.model_selection import KFold\n",
        "from sklearn.preprocessing import StandardScaler\n",
        "from sklearn.pipeline import Pipeline\n"
      ]
    },
    {
      "cell_type": "code",
      "execution_count": 64,
      "id": "910f85bd",
      "metadata": {
        "id": "910f85bd"
      },
      "outputs": [],
      "source": [
        "from keras.models import Sequential\n",
        "from keras.layers import Dense\n",
        "from keras.wrappers.scikit_learn import KerasRegressor\n",
        "from sklearn.model_selection import cross_val_score\n",
        "from sklearn.model_selection import KFold"
      ]
    },
    {
      "cell_type": "code",
      "execution_count": 65,
      "id": "acdf727e",
      "metadata": {
        "id": "acdf727e"
      },
      "outputs": [],
      "source": [
        "\n",
        "def build_and_compile_model(norm):\n",
        "  model = keras.Sequential([\n",
        "      norm,\n",
        "      layers.Dense(64, activation='relu'),\n",
        "      layers.Dense(64, activation='relu'),\n",
        "      layers.Dense(1)\n",
        "  ])\n",
        "\n",
        "  model.compile(loss='mean_absolute_error',\n",
        "                optimizer=tf.keras.optimizers.Adam(0.001))\n",
        "  return model\n"
      ]
    },
    {
      "cell_type": "code",
      "source": [
        "dnn_cement_model = build_and_compile_model(CementT_normalizer)"
      ],
      "metadata": {
        "id": "XWgwDCCF1nIO"
      },
      "id": "XWgwDCCF1nIO",
      "execution_count": 66,
      "outputs": []
    },
    {
      "cell_type": "code",
      "source": [
        "dnn_cement_model.summary()"
      ],
      "metadata": {
        "colab": {
          "base_uri": "https://localhost:8080/"
        },
        "id": "610EP9Az1nO5",
        "outputId": "040fb573-84ec-4e06-a3b8-6db063f1d467"
      },
      "id": "610EP9Az1nO5",
      "execution_count": 67,
      "outputs": [
        {
          "output_type": "stream",
          "name": "stdout",
          "text": [
            "Model: \"sequential_2\"\n",
            "_________________________________________________________________\n",
            " Layer (type)                Output Shape              Param #   \n",
            "=================================================================\n",
            " normalization_1 (Normalizat  (None, 1)                3         \n",
            " ion)                                                            \n",
            "                                                                 \n",
            " dense_2 (Dense)             (None, 64)                128       \n",
            "                                                                 \n",
            " dense_3 (Dense)             (None, 64)                4160      \n",
            "                                                                 \n",
            " dense_4 (Dense)             (None, 1)                 65        \n",
            "                                                                 \n",
            "=================================================================\n",
            "Total params: 4,356\n",
            "Trainable params: 4,353\n",
            "Non-trainable params: 3\n",
            "_________________________________________________________________\n"
          ]
        }
      ]
    },
    {
      "cell_type": "code",
      "source": [
        "%%time\n",
        "history = dnn_cement_model.fit(\n",
        "    train_features['Cement'],\n",
        "    train_labels,\n",
        "    validation_split=0.2,\n",
        "    verbose=0, epochs=100)"
      ],
      "metadata": {
        "colab": {
          "base_uri": "https://localhost:8080/"
        },
        "id": "QMMj37H_2m7M",
        "outputId": "2eb358fc-e427-4c36-8923-d0dab7f1288a"
      },
      "id": "QMMj37H_2m7M",
      "execution_count": 68,
      "outputs": [
        {
          "output_type": "stream",
          "name": "stdout",
          "text": [
            "CPU times: user 6.54 s, sys: 371 ms, total: 6.91 s\n",
            "Wall time: 6.38 s\n"
          ]
        }
      ]
    },
    {
      "cell_type": "code",
      "source": [
        "plot_loss(history)"
      ],
      "metadata": {
        "colab": {
          "base_uri": "https://localhost:8080/",
          "height": 283
        },
        "id": "zJ-9KHAd2nAU",
        "outputId": "fc3d5a89-5477-44f7-eef8-3bbc2a3cc782"
      },
      "id": "zJ-9KHAd2nAU",
      "execution_count": 69,
      "outputs": [
        {
          "output_type": "display_data",
          "data": {
            "image/png": "[encoded data removed]",
            "text/plain": [
              "<Figure size 432x288 with 1 Axes>"
            ]
          },
          "metadata": {
            "needs_background": "light"
          }
        }
      ]
    },
    {
      "cell_type": "code",
      "source": [
        "x = tf.linspace(0.0, 824, 825)\n",
        "y = dnn_cement_model.predict(x)\n",
        "y_pred3 = np.array(dnn_cement_model.predict(test_features['Cement']))\n"
      ],
      "metadata": {
        "id": "6cwtz8P_2nHs"
      },
      "id": "6cwtz8P_2nHs",
      "execution_count": 70,
      "outputs": []
    },
    {
      "cell_type": "code",
      "source": [
        "plot_concrete(x, y)"
      ],
      "metadata": {
        "colab": {
          "base_uri": "https://localhost:8080/",
          "height": 279
        },
        "id": "F3em3mi72nOe",
        "outputId": "ad89b239-9a86-4376-b574-e5f6137572c9"
      },
      "id": "F3em3mi72nOe",
      "execution_count": 72,
      "outputs": [
        {
          "output_type": "display_data",
          "data": {
            "image/png": "[encoded data removed]",
            "text/plain": [
              "<Figure size 432x288 with 1 Axes>"
            ]
          },
          "metadata": {
            "needs_background": "light"
          }
        }
      ]
    },
    {
      "cell_type": "code",
      "source": [
        "test_results['dnn_cement_model'] = dnn_cement_model.evaluate(\n",
        "    test_features['Cement'], test_labels,\n",
        "    verbose=0)"
      ],
      "metadata": {
        "id": "LELyUTyr2nTk"
      },
      "id": "LELyUTyr2nTk",
      "execution_count": 73,
      "outputs": []
    },
    {
      "cell_type": "code",
      "source": [
        "\n",
        "from sklearn.datasets import make_circles\n",
        "from sklearn.metrics import accuracy_score\n",
        "from sklearn.metrics import precision_score\n",
        "from sklearn.metrics import recall_score\n",
        "from sklearn.metrics import f1_score\n",
        "from sklearn.metrics import cohen_kappa_score\n",
        "from sklearn.metrics import roc_auc_score\n",
        "from sklearn.metrics import confusion_matrix\n",
        "from keras.models import Sequential\n",
        "from keras.layers import Dense"
      ],
      "metadata": {
        "id": "X9907ZgySfOc"
      },
      "id": "X9907ZgySfOc",
      "execution_count": 74,
      "outputs": []
    },
    {
      "cell_type": "code",
      "source": [
        "dnn_cement_model.fit(train_features['Cement'], train_labels, validation_data=(test_features['Cement'], test_labels), epochs=100,batch_size=10)"
      ],
      "metadata": {
        "colab": {
          "base_uri": "https://localhost:8080/"
        },
        "id": "uNMT2eufWeXI",
        "outputId": "15b3a6ec-89a5-440c-840a-b28d538e311a"
      },
      "id": "uNMT2eufWeXI",
      "execution_count": 76,
      "outputs": [
        {
          "output_type": "stream",
          "name": "stdout",
          "text": [
            "Epoch 1/100\n",
            "83/83 [==============================] - 0s 3ms/step - loss: 11.8920 - val_loss: 11.8811\n",
            "Epoch 2/100\n",
            "83/83 [==============================] - 0s 2ms/step - loss: 11.8933 - val_loss: 11.9563\n",
            "Epoch 3/100\n",
            "83/83 [==============================] - 0s 3ms/step - loss: 11.8671 - val_loss: 11.9209\n",
            "Epoch 4/100\n",
            "83/83 [==============================] - 0s 2ms/step - loss: 11.8669 - val_loss: 11.8720\n",
            "Epoch 5/100\n",
            "83/83 [==============================] - 0s 2ms/step - loss: 11.8558 - val_loss: 11.8724\n",
            "Epoch 6/100\n",
            "83/83 [==============================] - 0s 2ms/step - loss: 11.8609 - val_loss: 11.9015\n",
            "Epoch 7/100\n",
            "83/83 [==============================] - 0s 2ms/step - loss: 11.8624 - val_loss: 11.9086\n",
            "Epoch 8/100\n",
            "83/83 [==============================] - 0s 2ms/step - loss: 11.8973 - val_loss: 11.8661\n",
            "Epoch 9/100\n",
            "83/83 [==============================] - 0s 2ms/step - loss: 11.9000 - val_loss: 12.0905\n",
            "Epoch 10/100\n",
            "83/83 [==============================] - 0s 2ms/step - loss: 11.8999 - val_loss: 11.9075\n",
            "Epoch 11/100\n",
            "83/83 [==============================] - 0s 2ms/step - loss: 11.9063 - val_loss: 11.9569\n",
            "Epoch 12/100\n",
            "83/83 [==============================] - 0s 3ms/step - loss: 11.8888 - val_loss: 11.9966\n",
            "Epoch 13/100\n",
            "83/83 [==============================] - 0s 2ms/step - loss: 11.8766 - val_loss: 11.8757\n",
            "Epoch 14/100\n",
            "83/83 [==============================] - 0s 3ms/step - loss: 11.8985 - val_loss: 11.8879\n",
            "Epoch 15/100\n",
            "83/83 [==============================] - 0s 2ms/step - loss: 11.8706 - val_loss: 11.9784\n",
            "Epoch 16/100\n",
            "83/83 [==============================] - 0s 3ms/step - loss: 11.8489 - val_loss: 11.8809\n",
            "Epoch 17/100\n",
            "83/83 [==============================] - 0s 3ms/step - loss: 11.8654 - val_loss: 11.9893\n",
            "Epoch 18/100\n",
            "83/83 [==============================] - 0s 2ms/step - loss: 11.9111 - val_loss: 11.9282\n",
            "Epoch 19/100\n",
            "83/83 [==============================] - 0s 2ms/step - loss: 11.8883 - val_loss: 11.9019\n",
            "Epoch 20/100\n",
            "83/83 [==============================] - 0s 2ms/step - loss: 11.8056 - val_loss: 11.8822\n",
            "Epoch 21/100\n",
            "83/83 [==============================] - 0s 2ms/step - loss: 11.8782 - val_loss: 11.9545\n",
            "Epoch 22/100\n",
            "83/83 [==============================] - 0s 3ms/step - loss: 11.8523 - val_loss: 11.9597\n",
            "Epoch 23/100\n",
            "83/83 [==============================] - 0s 3ms/step - loss: 11.8850 - val_loss: 11.8797\n",
            "Epoch 24/100\n",
            "83/83 [==============================] - 0s 2ms/step - loss: 11.8526 - val_loss: 11.9146\n",
            "Epoch 25/100\n",
            "83/83 [==============================] - 0s 2ms/step - loss: 11.8584 - val_loss: 11.8840\n",
            "Epoch 26/100\n",
            "83/83 [==============================] - 0s 2ms/step - loss: 11.9149 - val_loss: 11.8707\n",
            "Epoch 27/100\n",
            "83/83 [==============================] - 0s 3ms/step - loss: 11.8515 - val_loss: 11.9562\n",
            "Epoch 28/100\n",
            "83/83 [==============================] - 0s 2ms/step - loss: 11.8776 - val_loss: 11.9124\n",
            "Epoch 29/100\n",
            "83/83 [==============================] - 0s 3ms/step - loss: 11.8456 - val_loss: 11.8701\n",
            "Epoch 30/100\n",
            "83/83 [==============================] - 0s 2ms/step - loss: 11.8781 - val_loss: 11.9038\n",
            "Epoch 31/100\n",
            "83/83 [==============================] - 0s 2ms/step - loss: 11.8646 - val_loss: 12.0645\n",
            "Epoch 32/100\n",
            "83/83 [==============================] - 0s 3ms/step - loss: 11.8762 - val_loss: 11.9276\n",
            "Epoch 33/100\n",
            "83/83 [==============================] - 0s 3ms/step - loss: 11.8630 - val_loss: 11.8940\n",
            "Epoch 34/100\n",
            "83/83 [==============================] - 0s 2ms/step - loss: 11.8721 - val_loss: 11.9012\n",
            "Epoch 35/100\n",
            "83/83 [==============================] - 0s 2ms/step - loss: 11.8914 - val_loss: 11.8796\n",
            "Epoch 36/100\n",
            "83/83 [==============================] - 0s 3ms/step - loss: 11.8610 - val_loss: 11.8716\n",
            "Epoch 37/100\n",
            "83/83 [==============================] - 0s 2ms/step - loss: 11.8753 - val_loss: 11.9689\n",
            "Epoch 38/100\n",
            "83/83 [==============================] - 0s 2ms/step - loss: 11.8833 - val_loss: 11.8874\n",
            "Epoch 39/100\n",
            "83/83 [==============================] - 0s 3ms/step - loss: 11.8651 - val_loss: 11.8972\n",
            "Epoch 40/100\n",
            "83/83 [==============================] - 0s 2ms/step - loss: 11.8863 - val_loss: 11.9114\n",
            "Epoch 41/100\n",
            "83/83 [==============================] - 0s 2ms/step - loss: 11.8550 - val_loss: 11.8703\n",
            "Epoch 42/100\n",
            "83/83 [==============================] - 0s 2ms/step - loss: 11.8696 - val_loss: 11.8940\n",
            "Epoch 43/100\n",
            "83/83 [==============================] - 0s 2ms/step - loss: 11.8615 - val_loss: 11.9452\n",
            "Epoch 44/100\n",
            "83/83 [==============================] - 0s 2ms/step - loss: 11.8728 - val_loss: 11.8712\n",
            "Epoch 45/100\n",
            "83/83 [==============================] - 0s 2ms/step - loss: 11.8729 - val_loss: 11.8851\n",
            "Epoch 46/100\n",
            "83/83 [==============================] - 0s 2ms/step - loss: 11.8720 - val_loss: 11.8659\n",
            "Epoch 47/100\n",
            "83/83 [==============================] - 0s 2ms/step - loss: 11.8803 - val_loss: 11.8756\n",
            "Epoch 48/100\n",
            "83/83 [==============================] - 0s 2ms/step - loss: 11.9101 - val_loss: 11.8680\n",
            "Epoch 49/100\n",
            "83/83 [==============================] - 0s 2ms/step - loss: 11.8830 - val_loss: 11.8668\n",
            "Epoch 50/100\n",
            "83/83 [==============================] - 0s 2ms/step - loss: 11.8960 - val_loss: 11.8782\n",
            "Epoch 51/100\n",
            "83/83 [==============================] - 0s 2ms/step - loss: 11.8204 - val_loss: 12.0009\n",
            "Epoch 52/100\n",
            "83/83 [==============================] - 0s 2ms/step - loss: 11.8260 - val_loss: 11.8810\n",
            "Epoch 53/100\n",
            "83/83 [==============================] - 0s 2ms/step - loss: 11.8348 - val_loss: 11.9303\n",
            "Epoch 54/100\n",
            "83/83 [==============================] - 0s 3ms/step - loss: 11.8099 - val_loss: 11.9001\n",
            "Epoch 55/100\n",
            "83/83 [==============================] - 0s 2ms/step - loss: 11.8890 - val_loss: 11.8754\n",
            "Epoch 56/100\n",
            "83/83 [==============================] - 0s 2ms/step - loss: 11.8627 - val_loss: 12.0162\n",
            "Epoch 57/100\n",
            "83/83 [==============================] - 0s 2ms/step - loss: 11.8693 - val_loss: 11.8790\n",
            "Epoch 58/100\n",
            "83/83 [==============================] - 0s 2ms/step - loss: 11.8540 - val_loss: 11.9140\n",
            "Epoch 59/100\n",
            "83/83 [==============================] - 0s 3ms/step - loss: 11.8551 - val_loss: 11.9104\n",
            "Epoch 60/100\n",
            "83/83 [==============================] - 0s 2ms/step - loss: 11.8663 - val_loss: 11.8811\n",
            "Epoch 61/100\n",
            "83/83 [==============================] - 0s 2ms/step - loss: 11.8438 - val_loss: 11.9219\n",
            "Epoch 62/100\n",
            "83/83 [==============================] - 0s 2ms/step - loss: 11.8482 - val_loss: 11.9131\n",
            "Epoch 63/100\n",
            "83/83 [==============================] - 0s 3ms/step - loss: 11.8573 - val_loss: 11.8696\n",
            "Epoch 64/100\n",
            "83/83 [==============================] - 0s 2ms/step - loss: 11.8684 - val_loss: 11.9542\n",
            "Epoch 65/100\n",
            "83/83 [==============================] - 0s 3ms/step - loss: 11.8591 - val_loss: 11.8693\n",
            "Epoch 66/100\n",
            "83/83 [==============================] - 0s 2ms/step - loss: 11.8582 - val_loss: 11.8959\n",
            "Epoch 67/100\n",
            "83/83 [==============================] - 0s 3ms/step - loss: 11.8512 - val_loss: 11.8716\n",
            "Epoch 68/100\n",
            "83/83 [==============================] - 0s 2ms/step - loss: 11.8358 - val_loss: 11.9392\n",
            "Epoch 69/100\n",
            "83/83 [==============================] - 0s 3ms/step - loss: 11.9444 - val_loss: 11.8920\n",
            "Epoch 70/100\n",
            "83/83 [==============================] - 0s 3ms/step - loss: 11.8640 - val_loss: 11.8982\n",
            "Epoch 71/100\n",
            "83/83 [==============================] - 0s 2ms/step - loss: 11.8431 - val_loss: 11.8796\n",
            "Epoch 72/100\n",
            "83/83 [==============================] - 0s 3ms/step - loss: 11.8679 - val_loss: 12.0481\n",
            "Epoch 73/100\n",
            "83/83 [==============================] - 0s 3ms/step - loss: 11.8557 - val_loss: 11.9321\n",
            "Epoch 74/100\n",
            "83/83 [==============================] - 0s 2ms/step - loss: 11.8552 - val_loss: 11.8983\n",
            "Epoch 75/100\n",
            "83/83 [==============================] - 0s 2ms/step - loss: 11.8655 - val_loss: 11.9007\n",
            "Epoch 76/100\n",
            "83/83 [==============================] - 0s 2ms/step - loss: 11.8314 - val_loss: 12.0313\n",
            "Epoch 77/100\n",
            "83/83 [==============================] - 0s 3ms/step - loss: 11.8882 - val_loss: 11.8838\n",
            "Epoch 78/100\n",
            "83/83 [==============================] - 0s 3ms/step - loss: 11.8441 - val_loss: 11.9960\n",
            "Epoch 79/100\n",
            "83/83 [==============================] - 0s 3ms/step - loss: 11.8656 - val_loss: 11.9427\n",
            "Epoch 80/100\n",
            "83/83 [==============================] - 0s 3ms/step - loss: 11.8648 - val_loss: 11.9924\n",
            "Epoch 81/100\n",
            "83/83 [==============================] - 0s 2ms/step - loss: 11.8621 - val_loss: 11.8746\n",
            "Epoch 82/100\n",
            "83/83 [==============================] - 0s 2ms/step - loss: 11.8671 - val_loss: 11.8956\n",
            "Epoch 83/100\n",
            "83/83 [==============================] - 0s 3ms/step - loss: 11.8928 - val_loss: 11.9075\n",
            "Epoch 84/100\n",
            "83/83 [==============================] - 0s 3ms/step - loss: 11.8765 - val_loss: 12.0728\n",
            "Epoch 85/100\n",
            "83/83 [==============================] - 0s 2ms/step - loss: 11.8738 - val_loss: 11.8720\n",
            "Epoch 86/100\n",
            "83/83 [==============================] - 0s 2ms/step - loss: 11.8232 - val_loss: 11.9962\n",
            "Epoch 87/100\n",
            "83/83 [==============================] - 0s 3ms/step - loss: 11.9090 - val_loss: 11.9054\n",
            "Epoch 88/100\n",
            "83/83 [==============================] - 0s 3ms/step - loss: 11.8665 - val_loss: 11.8905\n",
            "Epoch 89/100\n",
            "83/83 [==============================] - 0s 2ms/step - loss: 11.8496 - val_loss: 11.8713\n",
            "Epoch 90/100\n",
            "83/83 [==============================] - 0s 2ms/step - loss: 11.8527 - val_loss: 11.8914\n",
            "Epoch 91/100\n",
            "83/83 [==============================] - 0s 2ms/step - loss: 11.8952 - val_loss: 11.8745\n",
            "Epoch 92/100\n",
            "83/83 [==============================] - 0s 2ms/step - loss: 11.8765 - val_loss: 11.8772\n",
            "Epoch 93/100\n",
            "83/83 [==============================] - 0s 3ms/step - loss: 11.8881 - val_loss: 11.8702\n",
            "Epoch 94/100\n",
            "83/83 [==============================] - 0s 2ms/step - loss: 11.8737 - val_loss: 12.0192\n",
            "Epoch 95/100\n",
            "83/83 [==============================] - 0s 3ms/step - loss: 11.8750 - val_loss: 11.8740\n",
            "Epoch 96/100\n",
            "83/83 [==============================] - 0s 2ms/step - loss: 11.8595 - val_loss: 11.8905\n",
            "Epoch 97/100\n",
            "83/83 [==============================] - 0s 3ms/step - loss: 11.8794 - val_loss: 11.8986\n",
            "Epoch 98/100\n",
            "83/83 [==============================] - 0s 2ms/step - loss: 11.8680 - val_loss: 11.8770\n",
            "Epoch 99/100\n",
            "83/83 [==============================] - 0s 2ms/step - loss: 11.8606 - val_loss: 11.9693\n",
            "Epoch 100/100\n",
            "83/83 [==============================] - 0s 2ms/step - loss: 11.8828 - val_loss: 11.8693\n"
          ]
        },
        {
          "output_type": "execute_result",
          "data": {
            "text/plain": [
              "<keras.callbacks.History at 0x7f2611513610>"
            ]
          },
          "metadata": {},
          "execution_count": 76
        }
      ]
    },
    {
      "cell_type": "code",
      "source": [
        "y_pred3"
      ],
      "metadata": {
        "colab": {
          "base_uri": "https://localhost:8080/"
        },
        "id": "HXbo2NmrSujS",
        "outputId": "d17ba107-3faa-4ff4-d0e5-f1c5e3c67656"
      },
      "id": "HXbo2NmrSujS",
      "execution_count": 77,
      "outputs": [
        {
          "output_type": "execute_result",
          "data": {
            "text/plain": [
              "array([[28.606491],\n",
              "       [51.240276],\n",
              "       [24.458206],\n",
              "       [41.888676],\n",
              "       [46.47728 ],\n",
              "       [28.606491],\n",
              "       [31.454765],\n",
              "       [46.47728 ],\n",
              "       [31.454765],\n",
              "       [41.888676],\n",
              "       [41.888676],\n",
              "       [36.323925],\n",
              "       [28.606491],\n",
              "       [36.323925],\n",
              "       [41.449356],\n",
              "       [46.226597],\n",
              "       [46.226597],\n",
              "       [43.90024 ],\n",
              "       [37.76637 ],\n",
              "       [40.614643],\n",
              "       [35.027924],\n",
              "       [40.614643],\n",
              "       [37.004875],\n",
              "       [46.226597],\n",
              "       [51.240276],\n",
              "       [50.638638],\n",
              "       [35.027924],\n",
              "       [38.8061  ],\n",
              "       [46.226597],\n",
              "       [46.226597],\n",
              "       [43.90024 ],\n",
              "       [37.76637 ],\n",
              "       [41.85207 ],\n",
              "       [41.449356],\n",
              "       [41.52258 ],\n",
              "       [42.61085 ],\n",
              "       [56.965733],\n",
              "       [46.226597],\n",
              "       [43.90024 ],\n",
              "       [40.614643],\n",
              "       [46.226597],\n",
              "       [43.90024 ],\n",
              "       [40.614643],\n",
              "       [47.63043 ],\n",
              "       [40.614643],\n",
              "       [38.8061  ],\n",
              "       [30.346209],\n",
              "       [28.31947 ],\n",
              "       [28.026587],\n",
              "       [28.026587],\n",
              "       [30.903416],\n",
              "       [26.362284],\n",
              "       [26.362284],\n",
              "       [31.495039],\n",
              "       [31.495039],\n",
              "       [29.62572 ],\n",
              "       [29.62572 ],\n",
              "       [29.629381],\n",
              "       [29.587645],\n",
              "       [31.033749],\n",
              "       [31.033749],\n",
              "       [32.470333],\n",
              "       [32.470337],\n",
              "       [32.470337],\n",
              "       [27.345636],\n",
              "       [27.345636],\n",
              "       [27.39396 ],\n",
              "       [27.39396 ],\n",
              "       [26.430382],\n",
              "       [34.350636],\n",
              "       [34.350636],\n",
              "       [32.502552],\n",
              "       [32.304127],\n",
              "       [32.304127],\n",
              "       [32.53916 ],\n",
              "       [32.53916 ],\n",
              "       [34.20566 ],\n",
              "       [29.799986],\n",
              "       [30.089205],\n",
              "       [30.089205],\n",
              "       [30.089205],\n",
              "       [41.5958  ],\n",
              "       [48.83371 ],\n",
              "       [55.789158],\n",
              "       [42.293186],\n",
              "       [55.380695],\n",
              "       [25.780184],\n",
              "       [26.686653],\n",
              "       [26.77159 ],\n",
              "       [26.686653],\n",
              "       [28.31947 ],\n",
              "       [32.470333],\n",
              "       [29.697477],\n",
              "       [32.470333],\n",
              "       [26.318354],\n",
              "       [26.77159 ],\n",
              "       [26.146288],\n",
              "       [26.318354],\n",
              "       [48.33234 ],\n",
              "       [42.46967 ],\n",
              "       [42.46967 ],\n",
              "       [46.12632 ],\n",
              "       [46.12632 ],\n",
              "       [28.855442],\n",
              "       [40.351048],\n",
              "       [51.74165 ],\n",
              "       [32.736126],\n",
              "       [35.22562 ],\n",
              "       [43.017834],\n",
              "       [32.736126],\n",
              "       [31.506021],\n",
              "       [27.38371 ],\n",
              "       [31.608532],\n",
              "       [30.231985],\n",
              "       [42.072586],\n",
              "       [35.72352 ],\n",
              "       [24.319807],\n",
              "       [27.38371 ],\n",
              "       [38.901287],\n",
              "       [37.209896],\n",
              "       [38.88664 ],\n",
              "       [38.88664 ],\n",
              "       [38.88664 ],\n",
              "       [31.344936],\n",
              "       [31.344936],\n",
              "       [31.344936],\n",
              "       [34.346973],\n",
              "       [32.662907],\n",
              "       [36.54359 ],\n",
              "       [34.200535],\n",
              "       [41.52258 ],\n",
              "       [43.719746],\n",
              "       [23.347467],\n",
              "       [23.620718],\n",
              "       [27.53015 ],\n",
              "       [23.1244  ],\n",
              "       [28.123236],\n",
              "       [35.1524  ],\n",
              "       [27.53015 ],\n",
              "       [23.347467],\n",
              "       [28.965271],\n",
              "       [23.854933],\n",
              "       [26.73205 ],\n",
              "       [25.26764 ],\n",
              "       [26.278082],\n",
              "       [39.618843],\n",
              "       [35.738163],\n",
              "       [53.747135],\n",
              "       [57.872044],\n",
              "       [57.872044],\n",
              "       [42.293186],\n",
              "       [39.618843],\n",
              "       [42.035122],\n",
              "       [38.88664 ],\n",
              "       [35.664944],\n",
              "       [35.664944],\n",
              "       [35.738163],\n",
              "       [39.618843],\n",
              "       [53.747135],\n",
              "       [38.88664 ],\n",
              "       [42.035122],\n",
              "       [56.30944 ],\n",
              "       [34.054096],\n",
              "       [24.615084],\n",
              "       [36.76325 ],\n",
              "       [37.568676],\n",
              "       [40.863594],\n",
              "       [34.56664 ],\n",
              "       [26.146288],\n",
              "       [25.487303],\n",
              "       [37.34901 ],\n",
              "       [37.568676],\n",
              "       [34.273754],\n",
              "       [24.974758],\n",
              "       [33.17545 ],\n",
              "       [25.19442 ],\n",
              "       [25.26764 ],\n",
              "       [24.472403],\n",
              "       [25.26764 ],\n",
              "       [36.98291 ],\n",
              "       [24.681875],\n",
              "       [24.615084],\n",
              "       [38.300877],\n",
              "       [36.98291 ],\n",
              "       [24.755098],\n",
              "       [24.615084],\n",
              "       [35.22562 ],\n",
              "       [24.294966],\n",
              "       [25.34086 ],\n",
              "       [37.004875],\n",
              "       [25.399439],\n",
              "       [37.971386],\n",
              "       [38.70359 ],\n",
              "       [38.264267],\n",
              "       [37.05613 ],\n",
              "       [36.96095 ],\n",
              "       [35.891926],\n",
              "       [25.428726],\n",
              "       [36.96095 ],\n",
              "       [25.399439],\n",
              "       [25.238352],\n",
              "       [25.113878],\n",
              "       [40.863594],\n",
              "       [24.188507],\n",
              "       [37.59796 ],\n",
              "       [35.89925 ]], dtype=float32)"
            ]
          },
          "metadata": {},
          "execution_count": 77
        }
      ]
    },
    {
      "cell_type": "code",
      "source": [
        "##################### Neural network with multiple  layer ############################"
      ],
      "metadata": {
        "id": "2JZ3vHpO2nZO"
      },
      "id": "2JZ3vHpO2nZO",
      "execution_count": null,
      "outputs": []
    },
    {
      "cell_type": "code",
      "source": [
        "dnn_model = build_and_compile_model(normalizer)\n",
        "dnn_model.summary()"
      ],
      "metadata": {
        "colab": {
          "base_uri": "https://localhost:8080/"
        },
        "id": "y0A_TXhu2nc1",
        "outputId": "ca750a80-f45b-429e-ca6a-9c6c101088c7"
      },
      "id": "y0A_TXhu2nc1",
      "execution_count": 78,
      "outputs": [
        {
          "output_type": "stream",
          "name": "stdout",
          "text": [
            "Model: \"sequential_3\"\n",
            "_________________________________________________________________\n",
            " Layer (type)                Output Shape              Param #   \n",
            "=================================================================\n",
            " normalization (Normalizatio  (None, 8)                17        \n",
            " n)                                                              \n",
            "                                                                 \n",
            " dense_5 (Dense)             (None, 64)                576       \n",
            "                                                                 \n",
            " dense_6 (Dense)             (None, 64)                4160      \n",
            "                                                                 \n",
            " dense_7 (Dense)             (None, 1)                 65        \n",
            "                                                                 \n",
            "=================================================================\n",
            "Total params: 4,818\n",
            "Trainable params: 4,801\n",
            "Non-trainable params: 17\n",
            "_________________________________________________________________\n"
          ]
        }
      ]
    },
    {
      "cell_type": "code",
      "source": [
        "%%time\n",
        "history = dnn_model.fit(\n",
        "    train_features,\n",
        "    train_labels,\n",
        "    validation_split=0.2,\n",
        "    verbose=0, epochs=100)"
      ],
      "metadata": {
        "colab": {
          "base_uri": "https://localhost:8080/"
        },
        "id": "3xZ7DVg-2nfI",
        "outputId": "49711ccc-3cfe-4fb4-d09a-22d4d8000700"
      },
      "id": "3xZ7DVg-2nfI",
      "execution_count": 79,
      "outputs": [
        {
          "output_type": "stream",
          "name": "stdout",
          "text": [
            "CPU times: user 6.9 s, sys: 428 ms, total: 7.33 s\n",
            "Wall time: 6.51 s\n"
          ]
        }
      ]
    },
    {
      "cell_type": "code",
      "source": [
        "plot_loss(history)"
      ],
      "metadata": {
        "colab": {
          "base_uri": "https://localhost:8080/",
          "height": 283
        },
        "id": "f5H5-vZ02nkJ",
        "outputId": "e408c206-5123-42dc-facb-7f83ca7e8916"
      },
      "id": "f5H5-vZ02nkJ",
      "execution_count": 80,
      "outputs": [
        {
          "output_type": "display_data",
          "data": {
            "image/png": "[encoded data removed]",
            "text/plain": [
              "<Figure size 432x288 with 1 Axes>"
            ]
          },
          "metadata": {
            "needs_background": "light"
          }
        }
      ]
    },
    {
      "cell_type": "code",
      "source": [
        "test_results['dnn_model'] = dnn_model.evaluate(test_features, test_labels, verbose=0)"
      ],
      "metadata": {
        "id": "rttzwaW42nmt"
      },
      "id": "rttzwaW42nmt",
      "execution_count": 81,
      "outputs": []
    },
    {
      "cell_type": "code",
      "source": [
        "pd.DataFrame(test_results, index=['Mean absolute error [CC_Strength]']).T"
      ],
      "metadata": {
        "colab": {
          "base_uri": "https://localhost:8080/",
          "height": 175
        },
        "id": "rYIyorELR-EX",
        "outputId": "51e3dad2-7b34-4599-af23-14101ff2b1cf"
      },
      "id": "rYIyorELR-EX",
      "execution_count": 82,
      "outputs": [
        {
          "output_type": "execute_result",
          "data": {
            "text/html": [
              "\n",
              "  <div id=\"df-1dae96d8-39fa-4401-8128-5e61cd0c9777\">\n",
              "    <div class=\"colab-df-container\">\n",
              "      <div>\n",
              "<style scoped>\n",
              "    .dataframe tbody tr th:only-of-type {\n",
              "        vertical-align: middle;\n",
              "    }\n",
              "\n",
              "    .dataframe tbody tr th {\n",
              "        vertical-align: top;\n",
              "    }\n",
              "\n",
              "    .dataframe thead th {\n",
              "        text-align: right;\n",
              "    }\n",
              "</style>\n",
              "<table border=\"1\" class=\"dataframe\">\n",
              "  <thead>\n",
              "    <tr style=\"text-align: right;\">\n",
              "      <th></th>\n",
              "      <th>Mean absolute error [CC_Strength]</th>\n",
              "    </tr>\n",
              "  </thead>\n",
              "  <tbody>\n",
              "    <tr>\n",
              "      <th>CementT_model</th>\n",
              "      <td>11.847009</td>\n",
              "    </tr>\n",
              "    <tr>\n",
              "      <th>linear_model</th>\n",
              "      <td>8.206689</td>\n",
              "    </tr>\n",
              "    <tr>\n",
              "      <th>dnn_cement_model</th>\n",
              "      <td>11.868187</td>\n",
              "    </tr>\n",
              "    <tr>\n",
              "      <th>dnn_model</th>\n",
              "      <td>5.079147</td>\n",
              "    </tr>\n",
              "  </tbody>\n",
              "</table>\n",
              "</div>\n",
              "      <button class=\"colab-df-convert\" onclick=\"convertToInteractive('df-1dae96d8-39fa-4401-8128-5e61cd0c9777')\"\n",
              "              title=\"Convert this dataframe to an interactive table.\"\n",
              "              style=\"display:none;\">\n",
              "        \n",
              "  <svg xmlns=\"http://www.w3.org/2000/svg\" height=\"24px\"viewBox=\"0 0 24 24\"\n",
              "       width=\"24px\">\n",
              "    <path d=\"M0 0h24v24H0V0z\" fill=\"none\"/>\n",
              "    <path d=\"M18.56 5.44l.94 2.06.94-2.06 2.06-.94-2.06-.94-.94-2.06-.94 2.06-2.06.94zm-11 1L8.5 8.5l.94-2.06 2.06-.94-2.06-.94L8.5 2.5l-.94 2.06-2.06.94zm10 10l.94 2.06.94-2.06 2.06-.94-2.06-.94-.94-2.06-.94 2.06-2.06.94z\"/><path d=\"M17.41 7.96l-1.37-1.37c-.4-.4-.92-.59-1.43-.59-.52 0-1.04.2-1.43.59L10.3 9.45l-7.72 7.72c-.78.78-.78 2.05 0 2.83L4 21.41c.39.39.9.59 1.41.59.51 0 1.02-.2 1.41-.59l7.78-7.78 2.81-2.81c.8-.78.8-2.07 0-2.86zM5.41 20L4 18.59l7.72-7.72 1.47 1.35L5.41 20z\"/>\n",
              "  </svg>\n",
              "      </button>\n",
              "      \n",
              "  <style>\n",
              "    .colab-df-container {\n",
              "      display:flex;\n",
              "      flex-wrap:wrap;\n",
              "      gap: 12px;\n",
              "    }\n",
              "\n",
              "    .colab-df-convert {\n",
              "      background-color: #E8F0FE;\n",
              "      border: none;\n",
              "      border-radius: 50%;\n",
              "      cursor: pointer;\n",
              "      display: none;\n",
              "      fill: #1967D2;\n",
              "      height: 32px;\n",
              "      padding: 0 0 0 0;\n",
              "      width: 32px;\n",
              "    }\n",
              "\n",
              "    .colab-df-convert:hover {\n",
              "      background-color: #E2EBFA;\n",
              "      box-shadow: 0px 1px 2px rgba(60, 64, 67, 0.3), 0px 1px 3px 1px rgba(60, 64, 67, 0.15);\n",
              "      fill: #174EA6;\n",
              "    }\n",
              "\n",
              "    [theme=dark] .colab-df-convert {\n",
              "      background-color: #3B4455;\n",
              "      fill: #D2E3FC;\n",
              "    }\n",
              "\n",
              "    [theme=dark] .colab-df-convert:hover {\n",
              "      background-color: #434B5C;\n",
              "      box-shadow: 0px 1px 3px 1px rgba(0, 0, 0, 0.15);\n",
              "      filter: drop-shadow(0px 1px 2px rgba(0, 0, 0, 0.3));\n",
              "      fill: #FFFFFF;\n",
              "    }\n",
              "  </style>\n",
              "\n",
              "      <script>\n",
              "        const buttonEl =\n",
              "          document.querySelector('#df-1dae96d8-39fa-4401-8128-5e61cd0c9777 button.colab-df-convert');\n",
              "        buttonEl.style.display =\n",
              "          google.colab.kernel.accessAllowed ? 'block' : 'none';\n",
              "\n",
              "        async function convertToInteractive(key) {\n",
              "          const element = document.querySelector('#df-1dae96d8-39fa-4401-8128-5e61cd0c9777');\n",
              "          const dataTable =\n",
              "            await google.colab.kernel.invokeFunction('convertToInteractive',\n",
              "                                                     [key], {});\n",
              "          if (!dataTable) return;\n",
              "\n",
              "          const docLinkHtml = 'Like what you see? Visit the ' +\n",
              "            '<a target=\"_blank\" href=https://colab.research.google.com/notebooks/data_table.ipynb>data table notebook</a>'\n",
              "            + ' to learn more about interactive tables.';\n",
              "          element.innerHTML = '';\n",
              "          dataTable['output_type'] = 'display_data';\n",
              "          await google.colab.output.renderOutput(dataTable, element);\n",
              "          const docLink = document.createElement('div');\n",
              "          docLink.innerHTML = docLinkHtml;\n",
              "          element.appendChild(docLink);\n",
              "        }\n",
              "      </script>\n",
              "    </div>\n",
              "  </div>\n",
              "  "
            ],
            "text/plain": [
              "                  Mean absolute error [CC_Strength]\n",
              "CementT_model                             11.847009\n",
              "linear_model                               8.206689\n",
              "dnn_cement_model                          11.868187\n",
              "dnn_model                                  5.079147"
            ]
          },
          "metadata": {},
          "execution_count": 82
        }
      ]
    },
    {
      "cell_type": "code",
      "source": [
        "test_predictions = dnn_model.predict(test_features).flatten()\n",
        "\n",
        "a = plt.axes(aspect='equal')\n",
        "plt.scatter(test_labels, test_predictions)\n",
        "plt.xlabel('True Values [CC_strength]')\n",
        "plt.ylabel('Predictions [CC_strength]')\n",
        "lims = [0, 50]\n",
        "plt.xlim(lims)\n",
        "plt.ylim(lims)\n",
        "_ = plt.plot(lims, lims)"
      ],
      "metadata": {
        "colab": {
          "base_uri": "https://localhost:8080/",
          "height": 284
        },
        "id": "WaMh-q_Z3mvB",
        "outputId": "2400a04d-b414-4f42-8ed4-70b44cf97a60"
      },
      "id": "WaMh-q_Z3mvB",
      "execution_count": 83,
      "outputs": [
        {
          "output_type": "display_data",
          "data": {
            "image/png": "[encoded data removed]",
            "text/plain": [
              "<Figure size 432x288 with 1 Axes>"
            ]
          },
          "metadata": {
            "needs_background": "light"
          }
        }
      ]
    },
    {
      "cell_type": "code",
      "source": [
        "error = test_predictions - test_labels\n",
        "plt.hist(error, bins=25)\n",
        "plt.xlabel('Prediction Error [MPG]')\n",
        "_ = plt.ylabel('Count')"
      ],
      "metadata": {
        "colab": {
          "base_uri": "https://localhost:8080/",
          "height": 279
        },
        "id": "UA7iBZ8c3mx-",
        "outputId": "fe75bc1c-f1ed-48bb-e005-e1306221fd0e"
      },
      "id": "UA7iBZ8c3mx-",
      "execution_count": 84,
      "outputs": [
        {
          "output_type": "display_data",
          "data": {
            "image/png": "[encoded data removed]",
            "text/plain": [
              "<Figure size 432x288 with 1 Axes>"
            ]
          },
          "metadata": {
            "needs_background": "light"
          }
        }
      ]
    }
  ],
  "metadata": {
    "kernelspec": {
      "display_name": "Python 3 (ipykernel)",
      "language": "python",
      "name": "python3"
    },
    "language_info": {
      "codemirror_mode": {
        "name": "ipython",
        "version": 3
      },
      "file_extension": ".py",
      "mimetype": "text/x-python",
      "name": "python",
      "nbconvert_exporter": "python",
      "pygments_lexer": "ipython3",
      "version": "3.9.7"
    },
    "colab": {
      "name": "FinalPROJECT_HalahBahanshal.ipynb",
      "provenance": []
    }
  },
  "nbformat": 4,
  "nbformat_minor": 5
}